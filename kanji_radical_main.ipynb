{
 "cells": [
  {
   "cell_type": "markdown",
   "id": "9154d22582650ef5",
   "metadata": {
    "collapsed": false
   },
   "source": [
    "# Kanji Radical Match\n",
    "\n",
    "Loading data, training, and output."
   ]
  },
  {
   "cell_type": "code",
   "execution_count": 1,
   "id": "60c875da94788db9",
   "metadata": {
    "ExecuteTime": {
     "end_time": "2024-04-14T21:43:48.779813Z",
     "start_time": "2024-04-14T21:43:47.601410Z"
    },
    "collapsed": false
   },
   "outputs": [],
   "source": [
    "import utils as u\n",
    "import torch.nn as nn\n",
    "import torch\n",
    "import numpy as np\n",
    "from utils import KanjiFFNN\n",
    "import torch.optim as optim\n",
    "import matplotlib.pyplot as plt\n",
    "import matplotlib.font_manager as fm\n",
    "from sklearn.metrics import accuracy_score, precision_score, recall_score, f1_score, hamming_loss"
   ]
  },
  {
   "cell_type": "code",
   "execution_count": 2,
   "id": "693acae6",
   "metadata": {
    "ExecuteTime": {
     "end_time": "2024-04-14T21:43:50.107858Z",
     "start_time": "2024-04-14T21:43:49.669083Z"
    }
   },
   "outputs": [],
   "source": [
    "# eng_to_rads = u.load_eng_to_rads()\n",
    "eng_to_rads = u.json_to_dict('./data/english_to_radicals.json')\n",
    "eng_tens, rad_tens, eng_vocab, rad_vocab = u.dict_to_tensors(eng_to_rads)"
   ]
  },
  {
   "cell_type": "code",
   "execution_count": 3,
   "id": "8ecdac8fcb157f0a",
   "metadata": {
    "ExecuteTime": {
     "end_time": "2024-04-14T21:43:51.128906Z",
     "start_time": "2024-04-14T21:43:51.124109Z"
    },
    "collapsed": false
   },
   "outputs": [
    {
     "name": "stdout",
     "output_type": "stream",
     "text": [
      "Vocabulary size: 12091\n",
      "Radical vocabulary size: 253\n"
     ]
    }
   ],
   "source": [
    "print(\"Vocabulary size:\", len(eng_vocab))\n",
    "print(\"Radical vocabulary size:\", len(rad_vocab))"
   ]
  },
  {
   "cell_type": "code",
   "execution_count": 4,
   "id": "a8a47ed0e3b244f9",
   "metadata": {
    "ExecuteTime": {
     "end_time": "2024-04-14T21:43:52.034031Z",
     "start_time": "2024-04-14T21:43:52.026896Z"
    },
    "collapsed": false
   },
   "outputs": [
    {
     "name": "stdout",
     "output_type": "stream",
     "text": [
      "tensor([[0., 0., 0.,  ..., 0., 0., 0.],\n",
      "        [0., 0., 0.,  ..., 0., 0., 0.],\n",
      "        [0., 0., 0.,  ..., 0., 0., 0.],\n",
      "        [0., 0., 0.,  ..., 0., 0., 0.],\n",
      "        [0., 0., 0.,  ..., 0., 0., 0.]])\n",
      "['\"male\" principle' '\"summer\"' '%' \"'kimono' sleeve\" \"(Cantonese) don't!\"]\n",
      "tensor([[0., 0., 0.,  ..., 0., 0., 0.],\n",
      "        [0., 0., 0.,  ..., 0., 0., 0.],\n",
      "        [0., 1., 0.,  ..., 0., 0., 1.],\n",
      "        [0., 0., 0.,  ..., 0., 0., 0.],\n",
      "        [0., 0., 0.,  ..., 0., 0., 0.]])\n",
      "['ノ' 'ハ' 'マ' 'ユ' 'ヨ']\n"
     ]
    }
   ],
   "source": [
    "# Print a small sample of our data\n",
    "print(eng_tens[:5])\n",
    "print(eng_vocab[:5])\n",
    "print(rad_tens[:5])\n",
    "print(rad_vocab[:5])"
   ]
  },
  {
   "cell_type": "code",
   "execution_count": 5,
   "id": "b7800814",
   "metadata": {
    "ExecuteTime": {
     "end_time": "2024-04-14T21:43:53.192903Z",
     "start_time": "2024-04-14T21:43:53.116774Z"
    }
   },
   "outputs": [
    {
     "name": "stdout",
     "output_type": "stream",
     "text": [
      "12091\n"
     ]
    }
   ],
   "source": [
    "# Example\n",
    "print(len(u.get_tensor_from_word(\"eight\", eng_tens, eng_vocab)))"
   ]
  },
  {
   "cell_type": "code",
   "execution_count": 6,
   "id": "b71fbff98f348da7",
   "metadata": {
    "ExecuteTime": {
     "end_time": "2024-04-14T21:43:58.206894Z",
     "start_time": "2024-04-14T21:43:58.185566Z"
    },
    "collapsed": false
   },
   "outputs": [
    {
     "data": {
      "text/plain": [
       "KanjiFFNN(\n",
       "  (input): Linear(in_features=12091, out_features=300, bias=True)\n",
       "  (output): Linear(in_features=300, out_features=253, bias=True)\n",
       ")"
      ]
     },
     "execution_count": 6,
     "metadata": {},
     "output_type": "execute_result"
    }
   ],
   "source": [
    "e2r_model = KanjiFFNN(eng_tens.size(0), rad_tens.size(-1))\n",
    "criterion = nn.BCELoss()\n",
    "optimizer = optim.Adam(e2r_model.parameters(), lr=1e-3)\n",
    "lr_scheduler = optim.lr_scheduler.ExponentialLR(optimizer, gamma=0.9)\n",
    "e2r_model.eval()"
   ]
  },
  {
   "cell_type": "code",
   "execution_count": 7,
   "id": "f34b62a4",
   "metadata": {
    "ExecuteTime": {
     "end_time": "2024-04-14T22:01:11.661526Z",
     "start_time": "2024-04-14T21:44:21.549751Z"
    }
   },
   "outputs": [
    {
     "name": "stdout",
     "output_type": "stream",
     "text": [
      "Epoch: 1  Loss: 0.16734516620635986  Accuracy: 5.160698039864362%\n",
      "Epoch: 2  Loss: 0.15924492478370667  Accuracy: 4.895045901910512%\n",
      "Epoch: 3  Loss: 0.15224091708660126  Accuracy: 7.257464229592259%\n",
      "Epoch: 4  Loss: 0.09773602336645126  Accuracy: 15.691671491191796%\n",
      "Epoch: 5  Loss: 0.04998236522078514  Accuracy: 17.10677363328095%\n",
      "Epoch: 6  Loss: 0.04944709688425064  Accuracy: 16.072698701513524%\n",
      "Epoch: 7  Loss: 0.02583356201648712  Accuracy: 14.161442395169962%\n",
      "Epoch: 8  Loss: 0.02174997702240944  Accuracy: 14.639649325944918%\n",
      "Epoch: 9  Loss: 0.016085049137473106  Accuracy: 14.571830286990323%\n",
      "Epoch: 10  Loss: 0.007173965685069561  Accuracy: 15.012654040195187%\n"
     ]
    }
   ],
   "source": [
    "epochs = 10\n",
    "\n",
    "history = e2r_model.train_fit(eng_tens, rad_tens, optimizer, criterion, epochs=epochs, scheduler=lr_scheduler, verbose=True)"
   ]
  },
  {
   "cell_type": "code",
   "execution_count": 8,
   "id": "e5662789",
   "metadata": {
    "ExecuteTime": {
     "end_time": "2024-04-14T22:01:17.095530Z",
     "start_time": "2024-04-14T22:01:17.052936Z"
    }
   },
   "outputs": [],
   "source": [
    "torch.save(e2r_model, \"./models/model_v3.pt\")"
   ]
  },
  {
   "cell_type": "code",
   "execution_count": 9,
   "id": "d1df00c3",
   "metadata": {
    "ExecuteTime": {
     "end_time": "2024-04-14T22:01:17.882899Z",
     "start_time": "2024-04-14T22:01:17.841321Z"
    }
   },
   "outputs": [],
   "source": [
    "torch.save(e2r_model.state_dict(), \"./models/model_v3_state_dict.pt\")"
   ]
  },
  {
   "cell_type": "code",
   "execution_count": 10,
   "id": "9952bac3",
   "metadata": {
    "ExecuteTime": {
     "end_time": "2024-04-14T22:01:29.831594Z",
     "start_time": "2024-04-14T22:01:29.797678Z"
    }
   },
   "outputs": [
    {
     "data": {
      "text/plain": [
       "KanjiFFNN(\n",
       "  (input): Linear(in_features=12091, out_features=300, bias=True)\n",
       "  (output): Linear(in_features=300, out_features=253, bias=True)\n",
       ")"
      ]
     },
     "execution_count": 10,
     "metadata": {},
     "output_type": "execute_result"
    }
   ],
   "source": [
    "loaded_model = KanjiFFNN(eng_tens.size(1), rad_tens.size(1))\n",
    "loaded_model.load_state_dict(torch.load(\"./models/model_v3_state_dict.pt\"))\n",
    "loaded_model.eval()"
   ]
  },
  {
   "cell_type": "code",
   "execution_count": 11,
   "id": "4e5a30881229d7c",
   "metadata": {
    "ExecuteTime": {
     "end_time": "2024-04-14T22:01:33.646447Z",
     "start_time": "2024-04-14T22:01:33.642804Z"
    },
    "collapsed": false
   },
   "outputs": [],
   "source": [
    "# For direct usage\n",
    "loaded_model = e2r_model"
   ]
  },
  {
   "cell_type": "code",
   "execution_count": 12,
   "id": "423571b9",
   "metadata": {
    "ExecuteTime": {
     "end_time": "2024-04-14T22:01:34.219310Z",
     "start_time": "2024-04-14T22:01:34.191964Z"
    }
   },
   "outputs": [
    {
     "name": "stdout",
     "output_type": "stream",
     "text": [
      "tensor([3.1392e-03, 9.9313e-01, 5.5249e-05, 5.3314e-04, 4.4841e-05, 8.8403e-04,\n",
      "        4.6599e-06, 1.2957e-03, 7.2347e-05, 4.3040e-05, 3.0061e-06, 7.6151e-06,\n",
      "        3.0137e-06, 4.4815e-06, 3.7503e-06, 1.1594e-06, 1.1437e-06, 8.5976e-05,\n",
      "        7.0783e-06, 7.1293e-05, 1.5123e-06, 4.7957e-06, 1.3255e-05, 1.5377e-04,\n",
      "        7.3112e-07, 2.1450e-04, 1.7578e-06, 3.4786e-05, 4.2807e-07, 4.3387e-07,\n",
      "        1.0954e-04, 5.7236e-06, 1.3408e-05, 3.0550e-05, 9.6729e-01, 3.8300e-06,\n",
      "        9.5522e-01, 9.8539e-01, 8.2814e-04, 2.2430e-05, 3.8561e-04, 1.0938e-04,\n",
      "        1.3801e-05, 5.3809e-06, 1.7344e-04, 2.9354e-04, 1.3720e-04, 2.1276e-05,\n",
      "        1.6214e-05, 9.9386e-01, 7.4669e-05, 3.5427e-05, 4.2182e-06, 1.1066e-04,\n",
      "        6.4588e-06, 3.4681e-05, 8.0981e-05, 9.2078e-07, 3.8578e-05, 4.1911e-06,\n",
      "        9.9338e-05, 4.8201e-05, 6.0336e-05, 3.7783e-05, 1.2684e-06, 1.4733e-06,\n",
      "        6.6427e-06, 1.6511e-04, 1.5677e-05, 3.0568e-05, 1.0699e-06, 1.8971e-05,\n",
      "        7.2487e-06, 4.9405e-05, 8.9361e-06, 7.8211e-04, 1.1025e-05, 3.6905e-06,\n",
      "        1.0933e-05, 1.5289e-04, 1.0573e-05, 9.0961e-05, 4.2103e-06, 2.7007e-05,\n",
      "        1.2257e-05, 9.2641e-05, 6.7440e-06, 1.0696e-06, 4.1000e-06, 6.0087e-06,\n",
      "        1.2055e-04, 9.6840e-05, 4.1896e-07, 1.2317e-04, 9.8192e-01, 2.3101e-06,\n",
      "        2.8252e-05, 6.5059e-06, 6.7518e-07, 4.0843e-06, 5.5193e-05, 1.7591e-05,\n",
      "        3.4782e-05, 4.8406e-05, 5.1674e-07, 5.1466e-04, 2.9117e-05, 2.0510e-04,\n",
      "        2.9692e-04, 1.2855e-04, 3.4777e-07, 6.6361e-04, 3.8228e-07, 9.7897e-06,\n",
      "        9.6660e-06, 7.3121e-06, 1.0854e-05, 5.9834e-06, 1.7155e-06, 6.4545e-06,\n",
      "        1.4020e-05, 6.2043e-06, 1.3204e-04, 1.6091e-06, 1.0493e-06, 2.0943e-06,\n",
      "        7.9921e-06, 3.4280e-05, 1.2240e-05, 1.4725e-04, 2.7988e-05, 3.1351e-05,\n",
      "        3.5803e-05, 7.2509e-06, 3.0233e-06, 3.0008e-05, 1.3087e-05, 4.6646e-05,\n",
      "        1.2770e-05, 4.0750e-05, 2.3981e-04, 3.5612e-05, 6.8722e-04, 1.2135e-04,\n",
      "        7.3939e-06, 2.1520e-05, 8.9088e-06, 3.3570e-04, 2.7147e-05, 3.6677e-05,\n",
      "        7.4418e-05, 4.4077e-06, 6.7722e-06, 3.8093e-06, 1.1127e-05, 6.8568e-06,\n",
      "        7.1108e-06, 4.1916e-06, 5.1203e-05, 6.9299e-07, 1.4571e-07, 1.8942e-06,\n",
      "        4.0197e-08, 9.9468e-06, 9.1149e-06, 6.4064e-06, 1.9266e-05, 1.7916e-05,\n",
      "        1.3209e-05, 6.9538e-06, 5.6188e-05, 1.4048e-06, 1.2868e-06, 1.3132e-04,\n",
      "        1.9817e-04, 2.3430e-07, 8.1632e-06, 2.0435e-06, 3.7998e-05, 5.7661e-05,\n",
      "        2.2754e-07, 6.1838e-05, 3.9595e-06, 1.4531e-05, 1.0339e-05, 6.2318e-06,\n",
      "        8.0176e-07, 1.3514e-04, 8.5483e-05, 1.3365e-04, 5.1931e-06, 2.1360e-05,\n",
      "        2.7985e-06, 8.0323e-04, 1.7719e-05, 9.3534e-06, 6.5478e-06, 3.2593e-04,\n",
      "        3.4647e-05, 1.0638e-05, 2.3293e-07, 5.9565e-07, 3.5844e-04, 2.9420e-05,\n",
      "        2.1111e-05, 1.4088e-06, 1.4113e-05, 2.7443e-04, 1.1862e-05, 1.0150e-04,\n",
      "        3.4976e-05, 2.8923e-06, 1.9345e-05, 6.4492e-07, 2.2829e-07, 9.9365e-05,\n",
      "        2.4615e-05, 7.5070e-06, 3.8027e-05, 7.1125e-06, 3.3820e-07, 7.8192e-06,\n",
      "        2.6728e-06, 5.8277e-07, 4.6437e-05, 1.5753e-06, 2.3433e-07, 4.8352e-05,\n",
      "        1.7629e-06, 5.0909e-07, 8.8538e-07, 5.5718e-06, 3.4514e-07, 3.8078e-06,\n",
      "        5.0206e-07, 5.8420e-06, 2.8334e-05, 7.7249e-07, 1.0171e-06, 4.4337e-08,\n",
      "        8.0168e-07, 2.0854e-04, 8.7997e-07, 1.2202e-06, 1.3838e-07, 3.1120e-06,\n",
      "        9.9250e-08, 4.1674e-07, 5.7386e-06, 1.1082e-06, 1.1098e-06, 1.8017e-06,\n",
      "        2.3049e-04], grad_fn=<SigmoidBackward0>)\n"
     ]
    }
   ],
   "source": [
    "input_word = \"eight\"\n",
    "test_tensor = u.get_tensor_from_word(input_word, eng_tens, eng_vocab)\n",
    "res = loaded_model(test_tensor)\n",
    "print(res)"
   ]
  },
  {
   "cell_type": "code",
   "execution_count": 13,
   "id": "7faa307eef3b3fe7",
   "metadata": {
    "ExecuteTime": {
     "end_time": "2024-04-14T22:01:36.158577Z",
     "start_time": "2024-04-14T22:01:36.152572Z"
    },
    "collapsed": false
   },
   "outputs": [
    {
     "name": "stdout",
     "output_type": "stream",
     "text": [
      "[('口', 0.9938617), ('ハ', 0.99313194), ('勹', 0.98538625), ('扎', 0.9819212), ('刈', 0.9672948), ('力', 0.95522434), ('ノ', 0.0031391901), ('个', 0.0012956711), ('一', 0.00088403), ('勿', 0.0008281371), ('貝', 0.00080323475), ('已', 0.00078210654), ('疔', 0.0006872185), ('歹', 0.0006636082), ('ユ', 0.0005331366)]\n"
     ]
    }
   ],
   "source": [
    "output_probs = res.detach().numpy().squeeze()\n",
    "radical_probs = [(radical, prob) for radical, prob in zip(np.array(rad_vocab), output_probs)]\n",
    "sorted_radical_probs = sorted(radical_probs, key=lambda x: x[1], reverse=True)\n",
    "print(sorted_radical_probs[:15])"
   ]
  },
  {
   "cell_type": "code",
   "execution_count": 17,
   "id": "24543e26",
   "metadata": {
    "ExecuteTime": {
     "end_time": "2024-04-14T22:01:41.652230Z",
     "start_time": "2024-04-14T22:01:41.502995Z"
    }
   },
   "outputs": [
    {
     "data": {
      "image/png": "[encoded data removed]",
      "text/plain": [
       "<Figure size 640x480 with 1 Axes>"
      ]
     },
     "metadata": {},
     "output_type": "display_data"
    }
   ],
   "source": [
    "TOP_TAKE = 10\n",
    "fprop = fm.FontProperties(fname='NotoSansCJKtc-Regular.otf')\n",
    "\n",
    "radicals, probabilities = zip(*sorted_radical_probs)\n",
    "\n",
    "radicals_top = list(radicals[:TOP_TAKE])\n",
    "probabilities_top = list(probabilities[:TOP_TAKE])\n",
    "\n",
    "fig, axs = plt.subplots()\n",
    "axs.bar(range(TOP_TAKE), probabilities_top)\n",
    "axs.set_xticks(range(TOP_TAKE), radicals_top, fontproperties=fprop)\n",
    "axs.set_xlabel('Radicals')\n",
    "axs.set_ylabel('Probabilities')\n",
    "axs.set_title(f'Top {TOP_TAKE} Radicals Most Likely associated with \\\"{input_word}\\\"')\n",
    "\n",
    "plt.show()"
   ]
  },
  {
   "cell_type": "code",
   "execution_count": 15,
   "id": "42fb05c324dc21e9",
   "metadata": {
    "ExecuteTime": {
     "end_time": "2024-04-14T22:01:48.127686Z",
     "start_time": "2024-04-14T22:01:47.043887Z"
    },
    "collapsed": false
   },
   "outputs": [
    {
     "name": "stdout",
     "output_type": "stream",
     "text": [
      "Precision: 0.9994874423372629\n",
      "Recall: 0.7957606072265556\n",
      "F1 Score: 0.8860644457715576\n",
      "Accuracy: 0.7780994127863701\n",
      "Ham 0.005737779676713775\n"
     ]
    }
   ],
   "source": [
    "with torch.no_grad():\n",
    "    preds = loaded_model(eng_tens)\n",
    "    preds = (preds > 0.5)\n",
    "    print('Precision:', precision_score(rad_tens, preds, average='micro'))\n",
    "    print('Recall:', recall_score(rad_tens, preds, average='micro'))\n",
    "    print('F1 Score:', f1_score(rad_tens, preds, average='micro'))\n",
    "    print('Accuracy:', accuracy_score(rad_tens, preds))\n",
    "    print(\"Ham\", hamming_loss(rad_tens, preds))"
   ]
  }
 ],
 "metadata": {
  "kernelspec": {
   "display_name": "Python 3",
   "language": "python",
   "name": "python3"
  },
  "language_info": {
   "codemirror_mode": {
    "name": "ipython",
    "version": 3
   },
   "file_extension": ".py",
   "mimetype": "text/x-python",
   "name": "python",
   "nbconvert_exporter": "python",
   "pygments_lexer": "ipython3",
   "version": "3.12.1"
  }
 },
 "nbformat": 4,
 "nbformat_minor": 5
}
