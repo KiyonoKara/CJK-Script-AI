{
 "cells": [
  {
   "cell_type": "markdown",
   "id": "9154d22582650ef5",
   "metadata": {
    "collapsed": false
   },
   "source": [
    "# Kanji Radical Match\n",
    "\n",
    "Loading data, training, and output."
   ]
  },
  {
   "cell_type": "code",
   "execution_count": 1,
   "id": "60c875da94788db9",
   "metadata": {
    "collapsed": false,
    "ExecuteTime": {
     "end_time": "2024-04-14T19:27:36.574793Z",
     "start_time": "2024-04-14T19:27:35.413766Z"
    }
   },
   "outputs": [],
   "source": [
    "import utils as u\n",
    "import torch.nn as nn\n",
    "import torch\n",
    "from utils import KanjiFFNN\n",
    "import torch.optim as optim\n",
    "import matplotlib.pyplot as plt\n",
    "import matplotlib.font_manager as fm\n",
    "from sklearn.metrics import accuracy_score, precision_score, recall_score, f1_score"
   ]
  },
  {
   "cell_type": "code",
   "execution_count": 2,
   "id": "693acae6",
   "metadata": {
    "ExecuteTime": {
     "end_time": "2024-04-14T19:27:38.620811Z",
     "start_time": "2024-04-14T19:27:37.118426Z"
    }
   },
   "outputs": [],
   "source": [
    "# eng_to_rads = u.load_eng_to_rads()\n",
    "eng_to_rads = u.json_to_dict('./data/english_to_radicals.json')\n",
    "eng_tens, rad_tens, eng_vocab, rad_vocab = u.dict_to_tensors(eng_to_rads)"
   ]
  },
  {
   "cell_type": "code",
   "execution_count": 3,
   "id": "8ecdac8fcb157f0a",
   "metadata": {
    "collapsed": false,
    "ExecuteTime": {
     "end_time": "2024-04-14T19:27:39.407042Z",
     "start_time": "2024-04-14T19:27:39.403450Z"
    }
   },
   "outputs": [
    {
     "name": "stdout",
     "output_type": "stream",
     "text": [
      "Vocabulary size: 12091\n",
      "Radical vocabulary size: 253\n"
     ]
    }
   ],
   "source": [
    "print(\"Vocabulary size:\", len(eng_vocab))\n",
    "print(\"Radical vocabulary size:\", len(rad_vocab))"
   ]
  },
  {
   "cell_type": "code",
   "execution_count": 4,
   "id": "a8a47ed0e3b244f9",
   "metadata": {
    "collapsed": false,
    "ExecuteTime": {
     "end_time": "2024-04-14T19:27:39.951640Z",
     "start_time": "2024-04-14T19:27:39.947604Z"
    }
   },
   "outputs": [
    {
     "name": "stdout",
     "output_type": "stream",
     "text": [
      "tensor([8091, 8614, 8501, 6902, 6810])\n",
      "['to hide', 'put on (a sword)', 'tall (7 chi) horse', 'take hold of', 'twang']\n",
      "tensor([[0., 0., 1.,  ..., 0., 0., 0.],\n",
      "        [0., 0., 0.,  ..., 0., 0., 0.],\n",
      "        [0., 0., 1.,  ..., 0., 1., 0.],\n",
      "        [0., 0., 0.,  ..., 0., 0., 0.],\n",
      "        [0., 0., 0.,  ..., 0., 0., 0.]])\n",
      "['土', '阡', '弋', '臣', '虫']\n"
     ]
    }
   ],
   "source": [
    "# Print a small sample of our data\n",
    "print(eng_tens[:5])\n",
    "print(eng_vocab[:5])\n",
    "print(rad_tens[:5])\n",
    "print(rad_vocab[:5])"
   ]
  },
  {
   "cell_type": "code",
   "execution_count": 5,
   "id": "b7800814",
   "metadata": {
    "ExecuteTime": {
     "end_time": "2024-04-14T19:27:40.542882Z",
     "start_time": "2024-04-14T19:27:40.535717Z"
    }
   },
   "outputs": [
    {
     "name": "stdout",
     "output_type": "stream",
     "text": [
      "tensor([1., 0., 0., 0., 0., 1., 0., 0., 0., 0., 0., 0., 0., 0., 0., 0., 0., 0.,\n",
      "        0., 0., 0., 0., 1., 0., 0., 0., 0., 0., 0., 0., 0., 0., 0., 0., 0., 0.,\n",
      "        0., 0., 0., 0., 0., 0., 0., 0., 0., 0., 0., 0., 0., 0., 0., 0., 0., 0.,\n",
      "        0., 0., 0., 0., 0., 0., 1., 0., 0., 0., 0., 0., 0., 0., 0., 0., 0., 0.,\n",
      "        0., 0., 0., 0., 0., 0., 0., 0., 0., 0., 0., 0., 0., 0., 0., 0., 0., 0.,\n",
      "        0., 0., 0., 0., 0., 0., 0., 0., 0., 0., 0., 0., 0., 0., 0., 0., 1., 0.,\n",
      "        0., 0., 0., 0., 0., 0., 0., 0., 0., 0., 0., 0., 0., 0., 0., 0., 0., 0.,\n",
      "        0., 0., 0., 0., 0., 0., 0., 0., 0., 0., 0., 0., 0., 0., 0., 0., 0., 0.,\n",
      "        0., 0., 0., 0., 0., 0., 0., 0., 0., 0., 0., 0., 0., 0., 0., 0., 0., 0.,\n",
      "        0., 0., 0., 0., 0., 0., 0., 0., 0., 0., 0., 0., 0., 0., 0., 0., 0., 0.,\n",
      "        0., 0., 0., 0., 0., 0., 0., 0., 0., 0., 0., 0., 0., 0., 0., 0., 0., 0.,\n",
      "        0., 0., 0., 0., 0., 0., 0., 0., 0., 0., 0., 0., 0., 0., 0., 0., 0., 0.,\n",
      "        0., 0., 0., 0., 0., 0., 0., 0., 0., 0., 0., 0., 0., 0., 1., 0., 0., 0.,\n",
      "        0., 0., 0., 0., 0., 0., 0., 0., 0., 0., 0., 0., 0., 0., 0., 0., 0., 0.,\n",
      "        0.])\n",
      "253\n"
     ]
    }
   ],
   "source": [
    "# Example\n",
    "print(u.get_tensor_from_word(\"eight\", eng_tens, eng_vocab, rad_vocab, eng_to_rads))\n",
    "print(len(u.get_tensor_from_word(\"eight\", eng_tens, eng_vocab, rad_vocab, eng_to_rads)))"
   ]
  },
  {
   "cell_type": "code",
   "execution_count": 7,
   "id": "b71fbff98f348da7",
   "metadata": {
    "collapsed": false,
    "ExecuteTime": {
     "end_time": "2024-04-14T19:27:54.746650Z",
     "start_time": "2024-04-14T19:27:54.700665Z"
    }
   },
   "outputs": [
    {
     "data": {
      "text/plain": "KanjiFFNN(\n  (embedding): Embedding(12091, 253)\n  (hid1): Linear(in_features=253, out_features=253, bias=True)\n  (output): Linear(in_features=253, out_features=253, bias=True)\n)"
     },
     "execution_count": 7,
     "metadata": {},
     "output_type": "execute_result"
    }
   ],
   "source": [
    "e2r_model = KanjiFFNN(eng_tens.size(0), rad_tens.size(-1))\n",
    "criterion = nn.BCELoss()\n",
    "optimizer = optim.Adam(e2r_model.parameters(), lr=1e-3)\n",
    "lr_scheduler = optim.lr_scheduler.ExponentialLR(optimizer, gamma=0.9)\n",
    "e2r_model.eval()"
   ]
  },
  {
   "cell_type": "code",
   "execution_count": null,
   "id": "f34b62a4",
   "metadata": {},
   "outputs": [],
   "source": [
    "epochs = 10\n",
    "\n",
    "history = e2r_model.train_fit(eng_tens, rad_tens, optimizer, criterion, epochs=epochs, scheduler=lr_scheduler, verbose=True)"
   ]
  },
  {
   "cell_type": "code",
   "execution_count": 14,
   "id": "e5662789",
   "metadata": {
    "ExecuteTime": {
     "end_time": "2024-04-11T17:37:00.217018Z",
     "start_time": "2024-04-11T17:37:00.179653Z"
    }
   },
   "outputs": [],
   "source": [
    "torch.save(e2r_model, \"./models/model_v3.pt\")"
   ]
  },
  {
   "cell_type": "code",
   "execution_count": 15,
   "id": "d1df00c3",
   "metadata": {
    "ExecuteTime": {
     "end_time": "2024-04-11T17:37:00.955641Z",
     "start_time": "2024-04-11T17:37:00.923244Z"
    }
   },
   "outputs": [],
   "source": [
    "torch.save(e2r_model.state_dict(), \"./models/model_v3_state_dict.pt\")"
   ]
  },
  {
   "cell_type": "code",
   "execution_count": 11,
   "id": "9952bac3",
   "metadata": {
    "ExecuteTime": {
     "end_time": "2024-04-11T16:09:57.828243Z",
     "start_time": "2024-04-11T16:09:57.802250Z"
    }
   },
   "outputs": [
    {
     "data": {
      "text/plain": "KanjiFFNN(\n  (input): Linear(in_features=12531, out_features=253, bias=True)\n  (hid1): Linear(in_features=253, out_features=253, bias=True)\n  (output): Linear(in_features=253, out_features=253, bias=True)\n)"
     },
     "execution_count": 11,
     "metadata": {},
     "output_type": "execute_result"
    }
   ],
   "source": [
    "loaded_model = KanjiFFNN(eng_tens.size(1), rad_tens.size(1))\n",
    "loaded_model.load_state_dict(torch.load(\"./models/model_v3_state_dict.pt\"))\n",
    "loaded_model.eval()"
   ]
  },
  {
   "cell_type": "code",
   "outputs": [],
   "source": [
    "# For direct usage\n",
    "loaded_model = e2r_model"
   ],
   "metadata": {
    "collapsed": false,
    "ExecuteTime": {
     "end_time": "2024-04-11T17:37:04.688536Z",
     "start_time": "2024-04-11T17:37:04.684852Z"
    }
   },
   "id": "4e5a30881229d7c",
   "execution_count": 16
  },
  {
   "cell_type": "code",
   "execution_count": 17,
   "id": "423571b9",
   "metadata": {
    "ExecuteTime": {
     "end_time": "2024-04-11T17:37:05.527502Z",
     "start_time": "2024-04-11T17:37:05.478419Z"
    }
   },
   "outputs": [
    {
     "name": "stdout",
     "output_type": "stream",
     "text": [
      "tensor([1.2716e-02, 2.8683e-02, 1.5721e-05, 1.2777e-03, 5.5756e-04, 1.5856e-03,\n",
      "        1.8050e-04, 1.8680e-02, 4.3195e-03, 2.1837e-06, 8.1963e-09, 1.8731e-04,\n",
      "        3.8985e-04, 9.9292e-03, 2.8122e-06, 2.7945e-08, 5.1652e-03, 3.4968e-02,\n",
      "        2.6292e-06, 2.5396e-03, 9.3676e-03, 1.2435e-05, 7.3588e-03, 4.8023e-02,\n",
      "        6.2091e-05, 3.6633e-07, 1.1384e-04, 6.8667e-03, 4.9442e-09, 1.8881e-03,\n",
      "        7.9519e-04, 1.5765e-05, 1.3855e-04, 5.8560e-02, 1.8741e-02, 9.6796e-03,\n",
      "        1.2305e-02, 7.0806e-02, 3.6846e-04, 2.2010e-03, 6.1990e-02, 7.6004e-03,\n",
      "        8.2093e-02, 2.7543e-03, 6.1998e-02, 3.8895e-03, 1.5152e-01, 3.7157e-03,\n",
      "        3.4133e-07, 1.8592e-01, 1.7340e-03, 3.3960e-02, 3.1435e-02, 2.4364e-03,\n",
      "        3.4927e-02, 8.0604e-05, 2.0098e-02, 1.0988e-08, 7.5476e-03, 4.1730e-03,\n",
      "        2.2923e-02, 1.0653e-01, 3.4783e-04, 3.4454e-02, 1.2893e-08, 6.8092e-08,\n",
      "        2.1335e-03, 8.7069e-06, 3.2178e-06, 5.8649e-03, 7.0892e-08, 3.5669e-04,\n",
      "        1.8180e-03, 9.8323e-03, 2.2394e-09, 4.9420e-03, 3.1891e-08, 1.8394e-03,\n",
      "        6.6947e-03, 2.1448e-02, 4.9970e-05, 1.8141e-03, 3.8617e-04, 4.0607e-04,\n",
      "        8.5542e-03, 3.6237e-03, 1.4379e-05, 7.9760e-05, 3.9387e-03, 5.1430e-02,\n",
      "        1.8903e-03, 4.9958e-02, 7.7930e-07, 1.8180e-04, 4.6917e-02, 4.9542e-05,\n",
      "        7.5664e-03, 2.0217e-04, 8.6411e-08, 1.7383e-05, 1.2680e-02, 7.7522e-03,\n",
      "        1.1466e-04, 3.3917e-01, 2.2985e-04, 1.8686e-02, 7.1801e-02, 6.7203e-03,\n",
      "        4.1323e-03, 2.9942e-03, 1.3142e-07, 7.2649e-04, 4.8733e-07, 2.8147e-07,\n",
      "        3.0377e-07, 2.6296e-05, 3.7320e-06, 4.0056e-03, 4.5506e-08, 9.3140e-05,\n",
      "        1.8559e-03, 1.8051e-07, 7.8278e-04, 5.7179e-09, 4.7602e-03, 1.9895e-04,\n",
      "        1.2210e-04, 5.2616e-04, 3.3290e-06, 1.1768e-05, 1.3898e-05, 8.8271e-04,\n",
      "        1.0803e-03, 5.2027e-08, 2.8674e-02, 4.0411e-07, 1.2156e-07, 6.4120e-03,\n",
      "        1.0263e-04, 4.1775e-04, 1.6988e-01, 9.2506e-04, 6.7420e-06, 4.6828e-05,\n",
      "        1.5649e-02, 2.9865e-05, 1.9747e-03, 1.4230e-03, 8.3636e-06, 1.8271e-04,\n",
      "        3.0437e-05, 5.5758e-04, 7.3523e-05, 6.9080e-05, 2.7736e-04, 4.6963e-05,\n",
      "        7.9488e-03, 2.9487e-06, 1.6459e-04, 2.0258e-03, 9.9119e-07, 7.1250e-07,\n",
      "        5.3073e-04, 7.7693e-07, 8.5844e-03, 1.9799e-03, 2.8559e-05, 1.4424e-02,\n",
      "        2.8889e-05, 2.6644e-09, 2.3898e-05, 2.8074e-05, 3.9632e-05, 3.0370e-03,\n",
      "        1.9841e-03, 1.0074e-08, 8.8383e-06, 4.7763e-03, 4.7589e-08, 1.1739e-02,\n",
      "        6.1597e-07, 1.3730e-03, 3.4508e-07, 1.1694e-04, 1.4415e-02, 1.5573e-02,\n",
      "        3.6364e-03, 4.4457e-06, 3.2853e-02, 1.0775e-04, 2.5769e-04, 2.2857e-03,\n",
      "        3.9955e-06, 2.0697e-04, 4.3342e-02, 2.0125e-05, 7.9995e-05, 1.5696e-04,\n",
      "        1.6761e-05, 1.9110e-02, 9.0723e-05, 4.0013e-05, 1.9194e-02, 9.0831e-04,\n",
      "        1.8598e-04, 8.6156e-05, 5.4180e-03, 1.4694e-03, 8.7019e-06, 1.7635e-02,\n",
      "        1.2566e-02, 1.9709e-08, 8.3221e-03, 1.6964e-03, 2.5108e-06, 1.5167e-03,\n",
      "        3.8528e-10, 2.0192e-04, 1.3116e-04, 3.3963e-07, 3.4057e-03, 8.4651e-05,\n",
      "        2.1826e-09, 1.4157e-09, 3.6932e-03, 6.8833e-08, 2.0099e-09, 2.6075e-03,\n",
      "        3.8888e-07, 9.3350e-06, 7.7914e-10, 1.4094e-07, 2.6431e-08, 1.7804e-06,\n",
      "        8.5132e-07, 1.6885e-04, 8.9202e-04, 8.7629e-08, 1.6537e-08, 3.1632e-09,\n",
      "        5.1769e-07, 1.0943e-04, 2.8988e-08, 4.6229e-06, 3.5437e-12, 1.6175e-06,\n",
      "        3.1032e-12, 2.0460e-10, 1.0656e-08, 5.6935e-09, 3.8681e-06, 1.8658e-10,\n",
      "        1.4246e-02], grad_fn=<SigmoidBackward0>)\n"
     ]
    }
   ],
   "source": [
    "input_word = \"eight\"\n",
    "test_tensor = u.get_tensor_from_word(input_word, eng_tens, eng_vocab)\n",
    "res = loaded_model(test_tensor)\n",
    "print(res)"
   ]
  },
  {
   "cell_type": "code",
   "outputs": [
    {
     "name": "stdout",
     "output_type": "stream",
     "text": [
      "[('日', 0.33916727), ('口', 0.18592213), ('田', 0.16987702), ('厶', 0.15151873), ('寸', 0.106525786), ('十', 0.08209308), ('木', 0.07180098), ('勹', 0.07080649), ('卩', 0.061998203), ('化', 0.061989505), ('刀', 0.05855971), ('心', 0.051430363), ('戈', 0.049958073), ('儿', 0.04802336), ('扎', 0.0469169)]\n"
     ]
    }
   ],
   "source": [
    "output_probs = res.detach().numpy().squeeze()\n",
    "radical_probs = [(radical, prob) for radical, prob in zip(rad_vocab, output_probs)]\n",
    "sorted_radical_probs = sorted(radical_probs, key=lambda x: x[1], reverse=True)\n",
    "print(sorted_radical_probs[:15])"
   ],
   "metadata": {
    "collapsed": false,
    "ExecuteTime": {
     "end_time": "2024-04-11T17:37:07.868787Z",
     "start_time": "2024-04-11T17:37:07.863379Z"
    }
   },
   "id": "7faa307eef3b3fe7",
   "execution_count": 18
  },
  {
   "cell_type": "code",
   "execution_count": 19,
   "id": "24543e26",
   "metadata": {
    "ExecuteTime": {
     "end_time": "2024-04-11T17:37:13.359510Z",
     "start_time": "2024-04-11T17:37:13.253236Z"
    }
   },
   "outputs": [
    {
     "data": {
      "text/plain": "<Figure size 640x480 with 1 Axes>",
      "image/png": "[encoded data removed]"
     },
     "metadata": {},
     "output_type": "display_data"
    }
   ],
   "source": [
    "TOP_TAKE = 15\n",
    "fprop = fm.FontProperties(fname='NotoSansCJKtc-Regular.otf')\n",
    "\n",
    "radicals, probabilities = zip(*sorted_radical_probs)\n",
    "\n",
    "radicals_top = list(radicals[:TOP_TAKE])\n",
    "probabilities_top = list(probabilities[:TOP_TAKE])\n",
    "\n",
    "fig, axs = plt.subplots()\n",
    "axs.bar(range(TOP_TAKE), probabilities_top)\n",
    "axs.set_xticks(range(TOP_TAKE), radicals_top, fontproperties=fprop)\n",
    "axs.set_xlabel('Radicals')\n",
    "axs.set_ylabel('Probabilities')\n",
    "axs.set_title(f'Top {TOP_TAKE} Radicals Most Likely associated with \\\"{input_word}\\\"')\n",
    "\n",
    "plt.show()"
   ]
  },
  {
   "cell_type": "code",
   "outputs": [
    {
     "name": "stdout",
     "output_type": "stream",
     "text": [
      "Precision: 0.7927981343136092\n",
      "Recall: 0.23471381929247656\n",
      "F1 Score: 0.36219661947414045\n",
      "Accuracy: 0.07661000718218818\n"
     ]
    }
   ],
   "source": [
    "with torch.no_grad():\n",
    "    preds = loaded_model(eng_tens)\n",
    "    preds = (preds > 0.5)\n",
    "    print('Precision:', precision_score(rad_tens, preds, average='micro'))\n",
    "    print('Recall:', recall_score(rad_tens, preds, average='micro'))\n",
    "    print('F1 Score:', f1_score(rad_tens, preds, average='micro'))\n",
    "    print('Accuracy:', accuracy_score(rad_tens, preds))"
   ],
   "metadata": {
    "collapsed": false,
    "ExecuteTime": {
     "end_time": "2024-04-11T17:37:20.752474Z",
     "start_time": "2024-04-11T17:37:19.809177Z"
    }
   },
   "id": "42fb05c324dc21e9",
   "execution_count": 20
  }
 ],
 "metadata": {
  "kernelspec": {
   "display_name": "Python 3",
   "language": "python",
   "name": "python3"
  },
  "language_info": {
   "codemirror_mode": {
    "name": "ipython",
    "version": 3
   },
   "file_extension": ".py",
   "mimetype": "text/x-python",
   "name": "python",
   "nbconvert_exporter": "python",
   "pygments_lexer": "ipython3",
   "version": "3.10.11"
  }
 },
 "nbformat": 4,
 "nbformat_minor": 5
}
