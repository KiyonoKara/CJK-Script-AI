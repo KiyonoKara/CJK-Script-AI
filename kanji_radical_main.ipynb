{
 "cells": [
  {
   "cell_type": "markdown",
   "id": "9154d22582650ef5",
   "metadata": {
    "collapsed": false
   },
   "source": [
    "# Kanji Radical Match\n",
    "\n",
    "Data processing, training, and output."
   ]
  },
  {
   "cell_type": "code",
   "execution_count": 8,
   "id": "693acae6",
   "metadata": {},
   "outputs": [
    {
     "name": "stdout",
     "output_type": "stream",
     "text": [
      "{'one': ['⺍', '甲', '甘', '木'], 'two': ['一', '弋', '二', '冂', '山'], 'nine': ['丿', '乙'], 'seven': ['氵', '桼', '一', '乙'], 'person': ['亠', '耂', '日'], 'enter': [], 'insert': ['扌', '千', '十', '日'], 'eight': [], 'power': ['千', '木', '隹'], 'strength': ['⺨', '孟', '亻', '建', '岡', '刂', '米', '女', '攴']}\n"
     ]
    }
   ],
   "source": [
    "import utils as u\n",
    "\n",
    "eng_to_rads = dict(list(u.load_eng_to_rads().items())[:10])\n",
    "print(eng_to_rads)"
   ]
  },
  {
   "cell_type": "code",
   "execution_count": 1,
   "id": "b71fbff98f348da7",
   "metadata": {
    "collapsed": false
   },
   "outputs": [
    {
     "ename": "TypeError",
     "evalue": "KanjiFFNN.__init__() missing 3 required positional arguments: 'eng_vocab_size', 'radical_vocab_size', and 'nodes'",
     "output_type": "error",
     "traceback": [
      "\u001b[0;31m---------------------------------------------------------------------------\u001b[0m",
      "\u001b[0;31mTypeError\u001b[0m                                 Traceback (most recent call last)",
      "Cell \u001b[0;32mIn[1], line 7\u001b[0m\n\u001b[1;32m      4\u001b[0m \u001b[38;5;28;01mimport\u001b[39;00m \u001b[38;5;21;01mtorch\u001b[39;00m\u001b[38;5;21;01m.\u001b[39;00m\u001b[38;5;21;01moptim\u001b[39;00m \u001b[38;5;28;01mas\u001b[39;00m \u001b[38;5;21;01moptim\u001b[39;00m\n\u001b[1;32m      5\u001b[0m \u001b[38;5;28;01mimport\u001b[39;00m \u001b[38;5;21;01mtorch\u001b[39;00m\u001b[38;5;21;01m.\u001b[39;00m\u001b[38;5;21;01mnn\u001b[39;00m \u001b[38;5;28;01mas\u001b[39;00m \u001b[38;5;21;01mnn\u001b[39;00m\n\u001b[0;32m----> 7\u001b[0m e2r_model \u001b[38;5;241m=\u001b[39m \u001b[43mKanjiFFNN\u001b[49m\u001b[43m(\u001b[49m\u001b[43m)\u001b[49m\n\u001b[1;32m      8\u001b[0m criterion \u001b[38;5;241m=\u001b[39m nn\u001b[38;5;241m.\u001b[39mBCELoss()\n\u001b[1;32m     10\u001b[0m optimizer \u001b[38;5;241m=\u001b[39m optim\u001b[38;5;241m.\u001b[39mSGD(e2r_model\u001b[38;5;241m.\u001b[39mparameters(), lr\u001b[38;5;241m=\u001b[39m\u001b[38;5;241m0.01\u001b[39m)\n",
      "\u001b[0;31mTypeError\u001b[0m: KanjiFFNN.__init__() missing 3 required positional arguments: 'eng_vocab_size', 'radical_vocab_size', and 'nodes'"
     ]
    }
   ],
   "source": [
    "\n",
    "from utils import KanjiFFNN\n",
    "import torch.optim as optim\n",
    "import torch.nn as nn\n",
    "\n",
    "e2r_model = KanjiFFNN()\n",
    "criterion = nn.BCELoss()\n",
    "\n",
    "optimizer = optim.SGD(e2r_model.parameters(), lr=0.01)"
   ]
  }
 ],
 "metadata": {
  "kernelspec": {
   "display_name": "Python 3",
   "language": "python",
   "name": "python3"
  },
  "language_info": {
   "codemirror_mode": {
    "name": "ipython",
    "version": 3
   },
   "file_extension": ".py",
   "mimetype": "text/x-python",
   "name": "python",
   "nbconvert_exporter": "python",
   "pygments_lexer": "ipython3",
   "version": "3.11.7"
  }
 },
 "nbformat": 4,
 "nbformat_minor": 5
}
