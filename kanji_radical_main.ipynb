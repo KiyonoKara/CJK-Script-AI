{
 "cells": [
  {
   "cell_type": "markdown",
   "id": "9154d22582650ef5",
   "metadata": {
    "collapsed": false
   },
   "source": [
    "# Kanji Radical Match\n",
    "\n",
    "Loading data, training, and output."
   ]
  },
  {
   "cell_type": "code",
   "execution_count": 1,
   "id": "60c875da94788db9",
   "metadata": {
    "ExecuteTime": {
     "end_time": "2024-04-09T22:58:09.524220Z",
     "start_time": "2024-04-09T22:58:08.824489Z"
    },
    "collapsed": false
   },
   "outputs": [],
   "source": [
    "import utils as u\n",
    "import torch.nn as nn\n",
    "import torch\n",
    "from utils import KanjiFFNN\n",
    "import torch.optim as optim\n",
    "import matplotlib.pyplot as plt\n",
    "import matplotlib.font_manager as fm"
   ]
  },
  {
   "cell_type": "code",
   "execution_count": 2,
   "id": "693acae6",
   "metadata": {
    "ExecuteTime": {
     "end_time": "2024-04-09T22:58:09.644026Z",
     "start_time": "2024-04-09T22:58:09.524940Z"
    }
   },
   "outputs": [],
   "source": [
    "eng_to_rads = dict(list(u.load_eng_to_rads().items()))\n",
    "eng_tens, rad_tens, eng_vocab, rad_vocab = u.dict_to_tensors(eng_to_rads)\n",
    "in_tensor = eng_tens[:100]\n",
    "out_tensor = rad_tens[:100]"
   ]
  },
  {
   "cell_type": "code",
   "execution_count": 3,
   "id": "8ecdac8fcb157f0a",
   "metadata": {
    "ExecuteTime": {
     "end_time": "2024-04-09T22:58:09.647298Z",
     "start_time": "2024-04-09T22:58:09.645125Z"
    },
    "collapsed": false
   },
   "outputs": [
    {
     "name": "stdout",
     "output_type": "stream",
     "text": [
      "Vocabulary size: 5191\n",
      "Radical vocabulary size: 241\n"
     ]
    }
   ],
   "source": [
    "print(\"Vocabulary size:\", len(eng_vocab))\n",
    "print(\"Radical vocabulary size:\", len(rad_vocab))\n"
   ]
  },
  {
   "cell_type": "code",
   "execution_count": 4,
   "id": "a8a47ed0e3b244f9",
   "metadata": {
    "ExecuteTime": {
     "end_time": "2024-04-09T22:58:09.652356Z",
     "start_time": "2024-04-09T22:58:09.647988Z"
    },
    "collapsed": false
   },
   "outputs": [
    {
     "name": "stdout",
     "output_type": "stream",
     "text": [
      "tensor([[0., 0., 0.,  ..., 0., 0., 0.],\n",
      "        [0., 0., 0.,  ..., 0., 0., 0.],\n",
      "        [0., 0., 0.,  ..., 0., 0., 0.],\n",
      "        [0., 0., 0.,  ..., 0., 0., 0.],\n",
      "        [0., 0., 0.,  ..., 0., 0., 0.]])\n",
      "['%' '(kokuji)' '(north) korea' '(parallels of) latitude' '-']\n",
      "tensor([[0., 0., 0.,  ..., 0., 0., 0.],\n",
      "        [0., 0., 0.,  ..., 0., 0., 0.],\n",
      "        [0., 0., 0.,  ..., 0., 0., 1.],\n",
      "        [0., 0., 0.,  ..., 0., 0., 0.],\n",
      "        [0., 0., 0.,  ..., 0., 0., 0.]])\n",
      "['ノ' 'ハ' 'マ' 'ユ' 'ヨ']\n"
     ]
    }
   ],
   "source": [
    "# Print a small sample of our data\n",
    "print(eng_tens[:5])\n",
    "print(eng_vocab[:5])\n",
    "print(rad_tens[:5])\n",
    "print(rad_vocab[:5])"
   ]
  },
  {
   "cell_type": "code",
   "execution_count": 5,
   "id": "b7800814",
   "metadata": {
    "ExecuteTime": {
     "end_time": "2024-04-09T22:58:09.661493Z",
     "start_time": "2024-04-09T22:58:09.654215Z"
    }
   },
   "outputs": [
    {
     "name": "stdout",
     "output_type": "stream",
     "text": [
      "tensor([0., 0., 0.,  ..., 0., 0., 0.])\n"
     ]
    }
   ],
   "source": [
    "# Example\n",
    "print(u.get_tensor_from_word(\"eight\", eng_tens, eng_vocab))"
   ]
  },
  {
   "cell_type": "code",
   "execution_count": 6,
   "id": "b71fbff98f348da7",
   "metadata": {
    "ExecuteTime": {
     "end_time": "2024-04-09T22:59:54.954368Z",
     "start_time": "2024-04-09T22:59:54.948766Z"
    },
    "collapsed": false
   },
   "outputs": [],
   "source": [
    "e2r_model = KanjiFFNN(in_tensor.size(1), out_tensor.size(1))\n",
    "criterion = nn.BCELoss()\n",
    "optimizer = optim.Adam(e2r_model.parameters(), lr=1e-3)\n",
    "lr_scheduler = optim.lr_scheduler.ExponentialLR(optimizer, gamma=0.9)"
   ]
  },
  {
   "cell_type": "code",
   "execution_count": 7,
   "id": "f34b62a4",
   "metadata": {
    "ExecuteTime": {
     "end_time": "2024-04-09T23:00:40.403597Z",
     "start_time": "2024-04-09T22:59:55.058556Z"
    }
   },
   "outputs": [
    {
     "name": "stdout",
     "output_type": "stream",
     "text": [
      "Epoch        1 Loss: 0.045074883848428726\n",
      "Epoch        2 Loss: 0.0356101468205452\n",
      "Epoch        3 Loss: 0.03073488548398018\n",
      "Epoch        4 Loss: 0.027216890826821327\n",
      "Epoch        5 Loss: 0.026168372482061386\n",
      "Epoch        6 Loss: 0.025674745440483093\n",
      "Epoch        7 Loss: 0.02523934468626976\n",
      "Epoch        8 Loss: 0.024857385084033012\n",
      "Epoch        9 Loss: 0.025236772373318672\n",
      "Epoch       10 Loss: 0.025527795776724815\n",
      "Epoch       11 Loss: 0.02536357194185257\n",
      "Epoch       12 Loss: 0.024989189580082893\n",
      "Epoch       13 Loss: 0.024687690660357475\n",
      "Epoch       14 Loss: 0.02449590153992176\n",
      "Epoch       15 Loss: 0.024321479722857475\n",
      "Epoch       16 Loss: 0.02414742112159729\n",
      "Epoch       17 Loss: 0.024024803191423416\n",
      "Epoch       18 Loss: 0.023957673460245132\n",
      "Epoch       19 Loss: 0.023912936449050903\n",
      "Epoch       20 Loss: 0.023871615529060364\n",
      "Epoch       21 Loss: 0.023830577731132507\n",
      "Epoch       22 Loss: 0.023790782317519188\n",
      "Epoch       23 Loss: 0.02375362440943718\n",
      "Epoch       24 Loss: 0.02371980994939804\n",
      "Epoch       25 Loss: 0.023689720779657364\n",
      "Epoch       26 Loss: 0.023663073778152466\n",
      "Epoch       27 Loss: 0.023639138787984848\n",
      "Epoch       28 Loss: 0.023617854341864586\n",
      "Epoch       29 Loss: 0.023598797619342804\n",
      "Epoch       30 Loss: 0.02358170971274376\n",
      "Epoch       31 Loss: 0.023566337302327156\n",
      "Epoch       32 Loss: 0.023552555590867996\n",
      "Epoch       33 Loss: 0.023540189489722252\n",
      "Epoch       34 Loss: 0.023529071360826492\n",
      "Epoch       35 Loss: 0.023519109934568405\n",
      "Epoch       36 Loss: 0.023510178551077843\n",
      "Epoch       37 Loss: 0.02350219339132309\n",
      "Epoch       38 Loss: 0.02349499985575676\n",
      "Epoch       39 Loss: 0.023488536477088928\n",
      "Epoch       40 Loss: 0.023482749238610268\n",
      "Epoch       41 Loss: 0.023477524518966675\n",
      "Epoch       42 Loss: 0.023472841829061508\n",
      "Epoch       43 Loss: 0.023468641564249992\n",
      "Epoch       44 Loss: 0.023464849218726158\n",
      "Epoch       45 Loss: 0.023461434990167618\n",
      "Epoch       46 Loss: 0.02345837652683258\n",
      "Epoch       47 Loss: 0.02345561981201172\n",
      "Epoch       48 Loss: 0.023453138768672943\n",
      "Epoch       49 Loss: 0.02345092222094536\n",
      "Epoch       50 Loss: 0.023448914289474487\n",
      "Epoch       51 Loss: 0.023447109386324883\n",
      "Epoch       52 Loss: 0.02344549633562565\n",
      "Epoch       53 Loss: 0.023444030433893204\n",
      "Epoch       54 Loss: 0.023442719131708145\n",
      "Epoch       55 Loss: 0.02344154380261898\n",
      "Epoch       56 Loss: 0.02344048023223877\n",
      "Epoch       57 Loss: 0.023439522832632065\n",
      "Epoch       58 Loss: 0.02343866229057312\n",
      "Epoch       59 Loss: 0.02343788370490074\n",
      "Epoch       60 Loss: 0.02343718707561493\n",
      "Epoch       61 Loss: 0.02343655563890934\n",
      "Epoch       62 Loss: 0.023435991257429123\n",
      "Epoch       63 Loss: 0.023435477167367935\n",
      "Epoch       64 Loss: 0.023435018956661224\n",
      "Epoch       65 Loss: 0.023434603586792946\n",
      "Epoch       66 Loss: 0.02343422919511795\n",
      "Epoch       67 Loss: 0.023433895781636238\n",
      "Epoch       68 Loss: 0.023433594033122063\n",
      "Epoch       69 Loss: 0.023433316498994827\n",
      "Epoch       70 Loss: 0.023433072492480278\n",
      "Epoch       71 Loss: 0.02343284897506237\n",
      "Epoch       72 Loss: 0.023432645946741104\n",
      "Epoch       73 Loss: 0.023432468995451927\n",
      "Epoch       74 Loss: 0.023432305082678795\n",
      "Epoch       75 Loss: 0.023432167246937752\n",
      "Epoch       76 Loss: 0.023432034999132156\n",
      "Epoch       77 Loss: 0.023431912064552307\n",
      "Epoch       78 Loss: 0.023431813344359398\n",
      "Epoch       79 Loss: 0.023431720212101936\n",
      "Epoch       80 Loss: 0.023431627079844475\n",
      "Epoch       81 Loss: 0.023431554436683655\n",
      "Epoch       82 Loss: 0.023431479930877686\n",
      "Epoch       83 Loss: 0.02343142032623291\n",
      "Epoch       84 Loss: 0.023431362584233284\n",
      "Epoch       85 Loss: 0.023431314155459404\n",
      "Epoch       86 Loss: 0.023431269451975822\n",
      "Epoch       87 Loss: 0.02343122661113739\n",
      "Epoch       88 Loss: 0.023431194946169853\n",
      "Epoch       89 Loss: 0.023431163281202316\n",
      "Epoch       90 Loss: 0.02343112975358963\n",
      "Epoch       91 Loss: 0.023431096225976944\n",
      "Epoch       92 Loss: 0.023431072011590004\n",
      "Epoch       93 Loss: 0.023431051522493362\n",
      "Epoch       94 Loss: 0.02343103475868702\n",
      "Epoch       95 Loss: 0.023431014269590378\n",
      "Epoch       96 Loss: 0.023430991917848587\n",
      "Epoch       97 Loss: 0.023430975154042244\n",
      "Epoch       98 Loss: 0.0234309621155262\n",
      "Epoch       99 Loss: 0.023430950939655304\n",
      "Epoch      100 Loss: 0.023430950939655304\n"
     ]
    }
   ],
   "source": [
    "epochs = 100\n",
    "\n",
    "e2r_model.train_fit(in_tensor, out_tensor, optimizer, criterion, epochs=epochs, scheduler=lr_scheduler, verbose=True)"
   ]
  },
  {
   "cell_type": "code",
   "execution_count": 8,
   "id": "e5662789",
   "metadata": {
    "ExecuteTime": {
     "end_time": "2024-04-09T23:00:49.892225Z",
     "start_time": "2024-04-09T23:00:49.884891Z"
    }
   },
   "outputs": [],
   "source": [
    "torch.save(e2r_model, \"./models/model.pt\")"
   ]
  },
  {
   "cell_type": "code",
   "execution_count": 9,
   "id": "d1df00c3",
   "metadata": {
    "ExecuteTime": {
     "end_time": "2024-04-09T23:00:51.985484Z",
     "start_time": "2024-04-09T23:00:51.979462Z"
    }
   },
   "outputs": [],
   "source": [
    "torch.save(e2r_model.state_dict(), \"./models/model_state_dict.pt\")"
   ]
  },
  {
   "cell_type": "code",
   "execution_count": 10,
   "id": "9952bac3",
   "metadata": {},
   "outputs": [
    {
     "data": {
      "text/plain": [
       "KanjiFFNN(\n",
       "  (input): Linear(in_features=5191, out_features=200, bias=True)\n",
       "  (hid1): Linear(in_features=200, out_features=300, bias=True)\n",
       "  (hid2): Linear(in_features=300, out_features=200, bias=True)\n",
       "  (output): Linear(in_features=200, out_features=241, bias=True)\n",
       ")"
      ]
     },
     "execution_count": 10,
     "metadata": {},
     "output_type": "execute_result"
    }
   ],
   "source": [
    "loaded_model = KanjiFFNN(eng_tens.size(1), rad_tens.size(1))\n",
    "loaded_model.load_state_dict(torch.load(\"./models/model_state_dict.pt\"))\n",
    "loaded_model.eval()"
   ]
  },
  {
   "cell_type": "code",
   "execution_count": 11,
   "id": "423571b9",
   "metadata": {
    "ExecuteTime": {
     "end_time": "2024-04-09T23:00:59.483106Z",
     "start_time": "2024-04-09T23:00:59.465774Z"
    }
   },
   "outputs": [
    {
     "name": "stdout",
     "output_type": "stream",
     "text": [
      "tensor([8.5300e-02, 2.5779e-02, 1.9273e-09, 1.5589e-09, 2.1339e-04, 3.0586e-01,\n",
      "        7.4025e-10, 5.7737e-03, 8.1298e-02, 4.2233e-04, 2.1288e-09, 6.8956e-04,\n",
      "        7.6379e-02, 7.1728e-03, 2.9252e-03, 1.6433e-09, 6.2371e-02, 5.8572e-02,\n",
      "        6.0228e-04, 9.1054e-05, 2.6119e-02, 1.1300e-09, 4.4796e-03, 6.0789e-03,\n",
      "        2.8509e-09, 1.6578e-09, 1.7765e-03, 1.5645e-02, 3.5914e-05, 3.0365e-03,\n",
      "        2.0535e-09, 5.4268e-04, 1.3946e-09, 7.9001e-03, 2.1279e-03, 1.1930e-09,\n",
      "        1.0130e-02, 5.9450e-04, 2.3348e-09, 9.4245e-04, 3.1974e-03, 4.1665e-03,\n",
      "        2.8352e-02, 3.3708e-02, 1.1307e-09, 2.7555e-09, 9.3606e-03, 1.1744e-02,\n",
      "        8.8719e-05, 5.9533e-02, 1.1812e-09, 3.4032e-03, 2.1689e-02, 2.6603e-05,\n",
      "        1.0428e-02, 3.4761e-04, 3.2518e-02, 1.1184e-09, 6.6142e-03, 1.4518e-02,\n",
      "        2.8833e-03, 2.0450e-03, 6.8391e-03, 2.2127e-03, 1.2516e-09, 1.4406e-09,\n",
      "        3.8992e-04, 1.2476e-09, 1.6365e-09, 1.9900e-03, 4.0707e-05, 1.0406e-09,\n",
      "        6.5204e-03, 1.0329e-02, 1.5569e-03, 6.2136e-04, 1.4361e-09, 1.2137e-03,\n",
      "        3.3483e-09, 7.7308e-03, 4.6148e-04, 1.6398e-09, 3.9924e-05, 1.7558e-03,\n",
      "        7.1747e-04, 2.1152e-04, 1.5030e-09, 7.4501e-05, 2.1155e-03, 2.0435e-04,\n",
      "        1.8077e-09, 1.5399e-09, 1.5410e-09, 1.1404e-03, 3.8747e-03, 6.3392e-04,\n",
      "        2.1163e-03, 2.3795e-02, 8.6720e-05, 2.0242e-05, 2.9797e-04, 7.2761e-04,\n",
      "        1.3444e-02, 3.1789e-04, 8.3404e-03, 2.0839e-09, 1.4716e-09, 4.2544e-04,\n",
      "        2.3953e-09, 9.1513e-10, 1.5421e-09, 2.2350e-09, 1.9901e-09, 2.1158e-09,\n",
      "        3.1785e-04, 1.5246e-09, 2.1315e-09, 1.1121e-04, 4.2775e-03, 1.3518e-09,\n",
      "        1.6911e-09, 4.4740e-05, 7.7589e-10, 1.4928e-09, 3.1738e-09, 1.6222e-09,\n",
      "        1.0715e-09, 2.0020e-09, 1.4633e-09, 1.0514e-09, 3.8219e-04, 6.1242e-10,\n",
      "        2.6857e-04, 1.3154e-09, 1.6060e-09, 4.0608e-04, 1.5219e-09, 1.9933e-09,\n",
      "        1.4940e-02, 1.8266e-09, 3.2131e-09, 1.5420e-04, 2.3282e-09, 2.0883e-09,\n",
      "        4.0873e-05, 3.3905e-04, 2.9785e-09, 1.1652e-04, 8.3002e-10, 6.8323e-05,\n",
      "        8.8706e-10, 1.8460e-04, 1.0503e-03, 1.5749e-04, 9.0927e-04, 1.6946e-04,\n",
      "        2.3990e-05, 9.3968e-04, 4.8478e-04, 1.1562e-09, 3.6283e-09, 9.5025e-10,\n",
      "        1.5722e-04, 3.2245e-09, 2.4414e-09, 1.0798e-09, 4.2527e-05, 2.4717e-09,\n",
      "        2.0083e-09, 1.1808e-04, 9.8729e-05, 1.5265e-09, 1.7664e-09, 3.5518e-05,\n",
      "        1.8462e-09, 3.3392e-09, 1.9020e-09, 1.4928e-03, 4.4761e-09, 6.5872e-04,\n",
      "        2.1052e-09, 1.1822e-03, 7.1373e-03, 1.2321e-09, 1.7867e-09, 1.0676e-09,\n",
      "        2.2912e-04, 1.7592e-09, 1.4939e-04, 1.5042e-09, 1.7391e-09, 2.1863e-05,\n",
      "        4.0112e-05, 1.5589e-09, 1.2438e-09, 2.1674e-09, 1.5386e-04, 3.8326e-05,\n",
      "        1.2262e-09, 1.1962e-09, 6.1922e-04, 1.3440e-09, 1.3621e-04, 1.7958e-09,\n",
      "        2.7028e-03, 9.0257e-10, 1.9825e-09, 1.0547e-09, 1.2710e-03, 9.3613e-10,\n",
      "        8.1195e-04, 1.3720e-09, 9.9665e-10, 1.3360e-09, 9.5835e-10, 1.0966e-09,\n",
      "        2.1262e-09, 1.5758e-09, 2.3194e-09, 8.0523e-05, 1.5339e-09, 1.3675e-09,\n",
      "        1.0281e-04, 3.1915e-09, 7.1646e-10, 1.2624e-09, 1.2606e-09, 1.5822e-09,\n",
      "        1.3913e-09, 3.7876e-09, 1.4921e-09, 3.1522e-09, 2.9809e-09, 1.5972e-09,\n",
      "        1.4056e-09, 2.1294e-09, 8.7894e-10, 1.1817e-09, 1.0557e-09, 1.3758e-09,\n",
      "        1.0794e-01], grad_fn=<SigmoidBackward0>)\n"
     ]
    }
   ],
   "source": [
    "tensor = u.get_tensor_from_word(\"eight\", eng_tens, eng_vocab)\n",
    "res = e2r_model(tensor)\n",
    "print(res)"
   ]
  },
  {
   "cell_type": "code",
   "execution_count": 13,
   "id": "24543e26",
   "metadata": {
    "ExecuteTime": {
     "end_time": "2024-04-09T23:03:34.075680Z",
     "start_time": "2024-04-09T23:03:33.944668Z"
    }
   },
   "outputs": [
    {
     "data": {
      "image/png": "[encoded data removed]",
      "text/plain": [
       "<Figure size 640x480 with 1 Axes>"
      ]
     },
     "metadata": {},
     "output_type": "display_data"
    }
   ],
   "source": [
    "fprop = fm.FontProperties(fname='NotoSansCJKtc-Regular.otf')\n",
    "radicals = rad_vocab[:20]\n",
    "probabilities = res.tolist()[:20]\n",
    "\n",
    "fig, axs = plt.subplots()\n",
    "axs.bar(radicals, probabilities)\n",
    "axs.set_xticks(range(len(radicals)), radicals, fontproperties=fprop)\n",
    "plt.show()"
   ]
  }
 ],
 "metadata": {
  "kernelspec": {
   "display_name": "Python 3",
   "language": "python",
   "name": "python3"
  },
  "language_info": {
   "codemirror_mode": {
    "name": "ipython",
    "version": 3
   },
   "file_extension": ".py",
   "mimetype": "text/x-python",
   "name": "python",
   "nbconvert_exporter": "python",
   "pygments_lexer": "ipython3",
   "version": "3.10.11"
  }
 },
 "nbformat": 4,
 "nbformat_minor": 5
}
