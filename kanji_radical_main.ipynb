{
 "cells": [
  {
   "cell_type": "markdown",
   "id": "9154d22582650ef5",
   "metadata": {
    "collapsed": false
   },
   "source": [
    "# Kanji Radical Match\n",
    "\n",
    "Loading data, training, and output."
   ]
  },
  {
   "cell_type": "code",
   "execution_count": 1,
   "id": "60c875da94788db9",
   "metadata": {
    "collapsed": false,
    "ExecuteTime": {
     "end_time": "2024-04-14T21:43:48.779813Z",
     "start_time": "2024-04-14T21:43:47.601410Z"
    }
   },
   "outputs": [],
   "source": [
    "import utils as u\n",
    "import torch.nn as nn\n",
    "import torch\n",
    "import numpy as np\n",
    "from utils import KanjiFFNN\n",
    "import torch.optim as optim\n",
    "import matplotlib.pyplot as plt\n",
    "import matplotlib.font_manager as fm\n",
    "from sklearn.metrics import accuracy_score, precision_score, recall_score, f1_score"
   ]
  },
  {
   "cell_type": "code",
   "execution_count": 2,
   "id": "693acae6",
   "metadata": {
    "ExecuteTime": {
     "end_time": "2024-04-14T21:43:50.107858Z",
     "start_time": "2024-04-14T21:43:49.669083Z"
    }
   },
   "outputs": [],
   "source": [
    "# eng_to_rads = u.load_eng_to_rads()\n",
    "eng_to_rads = u.json_to_dict('./data/english_to_radicals.json')\n",
    "eng_tens, rad_tens, eng_vocab, rad_vocab = u.dict_to_tensors(eng_to_rads)"
   ]
  },
  {
   "cell_type": "code",
   "execution_count": 3,
   "id": "8ecdac8fcb157f0a",
   "metadata": {
    "collapsed": false,
    "ExecuteTime": {
     "end_time": "2024-04-14T21:43:51.128906Z",
     "start_time": "2024-04-14T21:43:51.124109Z"
    }
   },
   "outputs": [
    {
     "name": "stdout",
     "output_type": "stream",
     "text": [
      "Vocabulary size: 12091\n",
      "Radical vocabulary size: 253\n"
     ]
    }
   ],
   "source": [
    "print(\"Vocabulary size:\", len(eng_vocab))\n",
    "print(\"Radical vocabulary size:\", len(rad_vocab))"
   ]
  },
  {
   "cell_type": "code",
   "execution_count": 4,
   "id": "a8a47ed0e3b244f9",
   "metadata": {
    "collapsed": false,
    "ExecuteTime": {
     "end_time": "2024-04-14T21:43:52.034031Z",
     "start_time": "2024-04-14T21:43:52.026896Z"
    }
   },
   "outputs": [
    {
     "name": "stdout",
     "output_type": "stream",
     "text": [
      "tensor([[0., 0., 0.,  ..., 0., 0., 0.],\n",
      "        [0., 0., 0.,  ..., 0., 0., 0.],\n",
      "        [0., 0., 0.,  ..., 0., 0., 0.],\n",
      "        [0., 0., 0.,  ..., 0., 0., 0.],\n",
      "        [0., 0., 0.,  ..., 0., 0., 0.]])\n",
      "['\"male\" principle' '\"summer\"' '%' \"'kimono' sleeve\" \"(Cantonese) don't!\"]\n",
      "tensor([[0., 0., 0.,  ..., 0., 0., 0.],\n",
      "        [0., 0., 0.,  ..., 0., 0., 0.],\n",
      "        [0., 1., 0.,  ..., 0., 0., 1.],\n",
      "        [0., 0., 0.,  ..., 0., 0., 0.],\n",
      "        [0., 0., 0.,  ..., 0., 0., 0.]])\n",
      "['ノ' 'ハ' 'マ' 'ユ' 'ヨ']\n"
     ]
    }
   ],
   "source": [
    "# Print a small sample of our data\n",
    "print(eng_tens[:5])\n",
    "print(eng_vocab[:5])\n",
    "print(rad_tens[:5])\n",
    "print(rad_vocab[:5])"
   ]
  },
  {
   "cell_type": "code",
   "execution_count": 5,
   "id": "b7800814",
   "metadata": {
    "ExecuteTime": {
     "end_time": "2024-04-14T21:43:53.192903Z",
     "start_time": "2024-04-14T21:43:53.116774Z"
    }
   },
   "outputs": [
    {
     "name": "stdout",
     "output_type": "stream",
     "text": [
      "12091\n"
     ]
    }
   ],
   "source": [
    "# Example\n",
    "print(len(u.get_tensor_from_word(\"eight\", eng_tens, eng_vocab)))"
   ]
  },
  {
   "cell_type": "code",
   "execution_count": 7,
   "id": "b71fbff98f348da7",
   "metadata": {
    "collapsed": false,
    "ExecuteTime": {
     "end_time": "2024-04-14T21:43:58.206894Z",
     "start_time": "2024-04-14T21:43:58.185566Z"
    }
   },
   "outputs": [
    {
     "data": {
      "text/plain": "KanjiFFNN(\n  (input): Linear(in_features=12091, out_features=253, bias=True)\n  (hid1): Linear(in_features=253, out_features=253, bias=True)\n  (output): Linear(in_features=253, out_features=253, bias=True)\n)"
     },
     "execution_count": 7,
     "metadata": {},
     "output_type": "execute_result"
    }
   ],
   "source": [
    "e2r_model = KanjiFFNN(eng_tens.size(0), rad_tens.size(-1))\n",
    "criterion = nn.BCELoss()\n",
    "optimizer = optim.Adam(e2r_model.parameters(), lr=1e-3)\n",
    "lr_scheduler = optim.lr_scheduler.ExponentialLR(optimizer, gamma=0.9)\n",
    "e2r_model.eval()"
   ]
  },
  {
   "cell_type": "code",
   "execution_count": 8,
   "id": "f34b62a4",
   "metadata": {
    "ExecuteTime": {
     "end_time": "2024-04-14T22:01:11.661526Z",
     "start_time": "2024-04-14T21:44:21.549751Z"
    }
   },
   "outputs": [
    {
     "name": "stdout",
     "output_type": "stream",
     "text": [
      "Epoch: 1  Loss: 0.15996047854423523  Accuracy: 7.261682242990654%\n",
      "Epoch: 2  Loss: 0.17957183718681335  Accuracy: 3.609544289140683%\n",
      "Epoch: 3  Loss: 0.15820841491222382  Accuracy: 5.55570258870234%\n",
      "Epoch: 4  Loss: 0.1119769960641861  Accuracy: 9.207757836407245%\n",
      "Epoch: 5  Loss: 0.09033462405204773  Accuracy: 12.6575138532793%\n",
      "Epoch: 6  Loss: 0.06701738387346268  Accuracy: 13.447771069390456%\n",
      "Epoch: 7  Loss: 0.046863142400979996  Accuracy: 13.700355636423787%\n",
      "Epoch: 8  Loss: 0.024166114628314972  Accuracy: 13.517575055826647%\n",
      "Epoch: 9  Loss: 0.009078559465706348  Accuracy: 14.726821602845092%\n",
      "Epoch: 10  Loss: 0.004666093736886978  Accuracy: 14.334877181374576%\n"
     ]
    }
   ],
   "source": [
    "epochs = 10\n",
    "\n",
    "history = e2r_model.train_fit(eng_tens, rad_tens, optimizer, criterion, epochs=epochs, scheduler=lr_scheduler, verbose=True)"
   ]
  },
  {
   "cell_type": "code",
   "execution_count": 9,
   "id": "e5662789",
   "metadata": {
    "ExecuteTime": {
     "end_time": "2024-04-14T22:01:17.095530Z",
     "start_time": "2024-04-14T22:01:17.052936Z"
    }
   },
   "outputs": [],
   "source": [
    "torch.save(e2r_model, \"./models/model_v3.pt\")"
   ]
  },
  {
   "cell_type": "code",
   "execution_count": 10,
   "id": "d1df00c3",
   "metadata": {
    "ExecuteTime": {
     "end_time": "2024-04-14T22:01:17.882899Z",
     "start_time": "2024-04-14T22:01:17.841321Z"
    }
   },
   "outputs": [],
   "source": [
    "torch.save(e2r_model.state_dict(), \"./models/model_v3_state_dict.pt\")"
   ]
  },
  {
   "cell_type": "code",
   "execution_count": 11,
   "id": "9952bac3",
   "metadata": {
    "ExecuteTime": {
     "end_time": "2024-04-14T22:01:29.831594Z",
     "start_time": "2024-04-14T22:01:29.797678Z"
    }
   },
   "outputs": [
    {
     "data": {
      "text/plain": "KanjiFFNN(\n  (input): Linear(in_features=12091, out_features=253, bias=True)\n  (hid1): Linear(in_features=253, out_features=253, bias=True)\n  (output): Linear(in_features=253, out_features=253, bias=True)\n)"
     },
     "execution_count": 11,
     "metadata": {},
     "output_type": "execute_result"
    }
   ],
   "source": [
    "loaded_model = KanjiFFNN(eng_tens.size(1), rad_tens.size(1))\n",
    "loaded_model.load_state_dict(torch.load(\"./models/model_v3_state_dict.pt\"))\n",
    "loaded_model.eval()"
   ]
  },
  {
   "cell_type": "code",
   "outputs": [],
   "source": [
    "# For direct usage\n",
    "loaded_model = e2r_model"
   ],
   "metadata": {
    "collapsed": false,
    "ExecuteTime": {
     "end_time": "2024-04-14T22:01:33.646447Z",
     "start_time": "2024-04-14T22:01:33.642804Z"
    }
   },
   "id": "4e5a30881229d7c",
   "execution_count": 12
  },
  {
   "cell_type": "code",
   "execution_count": 13,
   "id": "423571b9",
   "metadata": {
    "ExecuteTime": {
     "end_time": "2024-04-14T22:01:34.219310Z",
     "start_time": "2024-04-14T22:01:34.191964Z"
    }
   },
   "outputs": [
    {
     "name": "stdout",
     "output_type": "stream",
     "text": [
      "tensor([1.2113e-03, 4.2460e-01, 7.0207e-06, 6.3727e-12, 9.2695e-04, 3.2195e-02,\n",
      "        2.2534e-05, 7.2093e-05, 1.9209e-05, 9.6665e-07, 7.4572e-08, 6.4540e-04,\n",
      "        3.1095e-07, 3.9191e-10, 5.6854e-05, 3.3079e-10, 2.2570e-02, 1.4231e-07,\n",
      "        4.2647e-06, 7.2938e-10, 7.4560e-04, 2.9759e-07, 5.5172e-07, 3.1294e-03,\n",
      "        4.7158e-08, 6.5234e-06, 3.0510e-07, 1.0838e-02, 6.0840e-06, 1.7165e-03,\n",
      "        7.3838e-07, 1.9734e-06, 4.6278e-05, 2.3517e-03, 3.4181e-01, 6.3479e-08,\n",
      "        7.9532e-01, 2.5578e-01, 5.8962e-05, 4.9696e-04, 2.0068e-05, 7.2541e-02,\n",
      "        2.6505e-04, 2.4626e-04, 3.0347e-05, 1.0441e-01, 3.3217e-03, 6.9247e-03,\n",
      "        8.3191e-08, 8.2495e-01, 1.2069e-04, 9.0279e-04, 5.5015e-04, 5.6743e-04,\n",
      "        1.6056e-04, 3.6582e-09, 5.1648e-06, 8.1228e-11, 3.5303e-02, 3.6402e-05,\n",
      "        1.1998e-04, 6.4968e-03, 8.4279e-08, 1.7699e-04, 4.8910e-10, 3.3274e-10,\n",
      "        1.7242e-04, 5.6178e-07, 3.9381e-05, 9.9773e-04, 1.2692e-10, 3.4690e-05,\n",
      "        8.6042e-05, 1.9008e-03, 1.5425e-06, 1.1477e-03, 1.4581e-04, 2.2689e-05,\n",
      "        4.7974e-07, 3.5538e-08, 3.1302e-09, 1.6731e-05, 4.0746e-06, 4.8024e-02,\n",
      "        2.6552e-03, 5.0615e-04, 1.4365e-10, 3.5822e-05, 1.3596e-07, 8.8093e-03,\n",
      "        8.2502e-03, 1.2234e-03, 5.6211e-06, 5.0275e-05, 7.5319e-01, 1.7832e-06,\n",
      "        3.0309e-08, 1.7794e-04, 6.3995e-08, 8.2476e-03, 1.4189e-01, 7.2378e-08,\n",
      "        1.0140e-07, 7.9310e-04, 3.5580e-10, 2.4920e-05, 2.7747e-05, 6.6553e-06,\n",
      "        2.1657e-02, 5.0561e-06, 5.2226e-11, 1.6255e-02, 5.1648e-09, 1.4795e-08,\n",
      "        1.3445e-08, 1.2889e-10, 2.9725e-07, 9.9121e-04, 8.2446e-10, 1.5032e-09,\n",
      "        4.2416e-05, 6.5622e-14, 4.3111e-04, 1.9673e-17, 7.0660e-04, 4.4576e-08,\n",
      "        3.7156e-11, 4.4304e-04, 3.0144e-07, 1.6030e-05, 1.5582e-08, 3.8716e-09,\n",
      "        2.3036e-05, 3.3216e-09, 1.0910e-05, 1.9908e-06, 6.9600e-08, 4.0932e-04,\n",
      "        9.5368e-10, 1.3757e-06, 1.0035e-02, 4.0847e-07, 4.8339e-06, 3.6280e-09,\n",
      "        3.1997e-06, 2.9483e-06, 1.2655e-07, 4.4289e-02, 1.6323e-06, 1.4044e-12,\n",
      "        4.5356e-05, 1.5238e-10, 8.9692e-08, 2.5857e-04, 1.1442e-04, 7.1869e-07,\n",
      "        1.4627e-07, 1.4378e-09, 1.6763e-06, 1.9331e-07, 1.0920e-11, 1.2532e-08,\n",
      "        3.0145e-11, 2.4713e-10, 4.6245e-06, 2.2107e-04, 4.0401e-09, 8.0701e-04,\n",
      "        3.1495e-08, 4.9030e-08, 8.1953e-06, 6.0204e-05, 6.1349e-08, 1.5164e-04,\n",
      "        1.0224e-03, 3.9964e-16, 1.0435e-05, 3.0131e-06, 8.1579e-08, 7.7219e-05,\n",
      "        8.1803e-07, 2.2651e-04, 1.7618e-15, 4.1669e-09, 1.1180e-03, 2.4295e-07,\n",
      "        4.1758e-07, 1.3886e-09, 8.2050e-04, 2.3700e-09, 1.8418e-10, 4.7158e-05,\n",
      "        1.9913e-10, 3.3999e-03, 5.8307e-05, 9.7244e-08, 2.8478e-05, 2.1319e-05,\n",
      "        3.9764e-06, 3.3273e-04, 1.1023e-08, 1.5429e-03, 4.1997e-06, 3.4073e-05,\n",
      "        8.9478e-09, 1.9993e-09, 7.4031e-07, 4.9145e-02, 6.3118e-06, 7.4980e-07,\n",
      "        1.3453e-04, 3.8710e-13, 1.1684e-03, 4.5549e-07, 3.0694e-13, 1.5864e-04,\n",
      "        5.5519e-06, 2.7088e-06, 8.1949e-09, 2.6944e-11, 9.4156e-08, 2.6460e-05,\n",
      "        4.7694e-10, 2.7978e-12, 1.0425e-06, 6.6888e-10, 9.2239e-13, 2.5313e-05,\n",
      "        6.2232e-09, 2.6835e-07, 6.4892e-08, 1.2113e-07, 3.3127e-13, 4.4320e-05,\n",
      "        5.5491e-10, 3.0878e-09, 8.1617e-10, 6.2902e-15, 5.0768e-16, 4.6021e-18,\n",
      "        1.0218e-12, 5.5661e-08, 2.1972e-14, 1.9612e-09, 2.2793e-17, 6.5276e-12,\n",
      "        7.9188e-15, 7.4381e-15, 7.3400e-10, 8.8917e-07, 5.9638e-06, 8.4190e-10,\n",
      "        1.9891e-02], grad_fn=<SigmoidBackward0>)\n"
     ]
    }
   ],
   "source": [
    "input_word = \"eight\"\n",
    "test_tensor = u.get_tensor_from_word(input_word, eng_tens, eng_vocab)\n",
    "res = loaded_model(test_tensor)\n",
    "print(res)"
   ]
  },
  {
   "cell_type": "code",
   "outputs": [
    {
     "name": "stdout",
     "output_type": "stream",
     "text": [
      "[('口', 0.82495105), ('力', 0.7953199), ('扎', 0.7531933), ('ハ', 0.42459527), ('刈', 0.34181195), ('勹', 0.25577828), ('斤', 0.14189431), ('厂', 0.10440944), ('匚', 0.07254069), ('金', 0.049144566), ('廾', 0.048023503), ('目', 0.04428898), ('女', 0.035303324), ('一', 0.03219498), ('亅', 0.022570252)]\n"
     ]
    }
   ],
   "source": [
    "output_probs = res.detach().numpy().squeeze()\n",
    "radical_probs = [(radical, prob) for radical, prob in zip(np.array(rad_vocab), output_probs)]\n",
    "sorted_radical_probs = sorted(radical_probs, key=lambda x: x[1], reverse=True)\n",
    "print(sorted_radical_probs[:15])"
   ],
   "metadata": {
    "collapsed": false,
    "ExecuteTime": {
     "end_time": "2024-04-14T22:01:36.158577Z",
     "start_time": "2024-04-14T22:01:36.152572Z"
    }
   },
   "id": "7faa307eef3b3fe7",
   "execution_count": 14
  },
  {
   "cell_type": "code",
   "execution_count": 15,
   "id": "24543e26",
   "metadata": {
    "ExecuteTime": {
     "end_time": "2024-04-14T22:01:41.652230Z",
     "start_time": "2024-04-14T22:01:41.502995Z"
    }
   },
   "outputs": [
    {
     "data": {
      "text/plain": "<Figure size 640x480 with 1 Axes>",
      "image/png": "[encoded data removed]"
     },
     "metadata": {},
     "output_type": "display_data"
    }
   ],
   "source": [
    "TOP_TAKE = 15\n",
    "fprop = fm.FontProperties(fname='NotoSansCJKtc-Regular.otf')\n",
    "\n",
    "radicals, probabilities = zip(*sorted_radical_probs)\n",
    "\n",
    "radicals_top = list(radicals[:TOP_TAKE])\n",
    "probabilities_top = list(probabilities[:TOP_TAKE])\n",
    "\n",
    "fig, axs = plt.subplots()\n",
    "axs.bar(range(TOP_TAKE), probabilities_top)\n",
    "axs.set_xticks(range(TOP_TAKE), radicals_top, fontproperties=fprop)\n",
    "axs.set_xlabel('Radicals')\n",
    "axs.set_ylabel('Probabilities')\n",
    "axs.set_title(f'Top {TOP_TAKE} Radicals Most Likely associated with \\\"{input_word}\\\"')\n",
    "\n",
    "plt.show()"
   ]
  },
  {
   "cell_type": "code",
   "outputs": [
    {
     "name": "stdout",
     "output_type": "stream",
     "text": [
      "Precision: 0.8775259727912323\n",
      "Recall: 0.5918826588314853\n",
      "F1 Score: 0.7069407308377896\n",
      "Accuracy: 0.36465139359854437\n"
     ]
    }
   ],
   "source": [
    "with torch.no_grad():\n",
    "    preds = loaded_model(eng_tens)\n",
    "    preds = (preds > 0.5)\n",
    "    print('Precision:', precision_score(rad_tens, preds, average='micro'))\n",
    "    print('Recall:', recall_score(rad_tens, preds, average='micro'))\n",
    "    print('F1 Score:', f1_score(rad_tens, preds, average='micro'))\n",
    "    print('Accuracy:', accuracy_score(rad_tens, preds))"
   ],
   "metadata": {
    "collapsed": false,
    "ExecuteTime": {
     "end_time": "2024-04-14T22:01:48.127686Z",
     "start_time": "2024-04-14T22:01:47.043887Z"
    }
   },
   "id": "42fb05c324dc21e9",
   "execution_count": 16
  }
 ],
 "metadata": {
  "kernelspec": {
   "display_name": "Python 3",
   "language": "python",
   "name": "python3"
  },
  "language_info": {
   "codemirror_mode": {
    "name": "ipython",
    "version": 3
   },
   "file_extension": ".py",
   "mimetype": "text/x-python",
   "name": "python",
   "nbconvert_exporter": "python",
   "pygments_lexer": "ipython3",
   "version": "3.10.11"
  }
 },
 "nbformat": 4,
 "nbformat_minor": 5
}
