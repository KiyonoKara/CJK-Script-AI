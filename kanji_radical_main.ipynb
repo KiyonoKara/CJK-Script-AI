{
 "cells": [
  {
   "cell_type": "markdown",
   "id": "9154d22582650ef5",
   "metadata": {
    "collapsed": false
   },
   "source": [
    "# Kanji Radical Match\n",
    "\n",
    "Data processing, training, and output."
   ]
  },
  {
   "cell_type": "code",
   "execution_count": 46,
   "id": "693acae6",
   "metadata": {
    "ExecuteTime": {
     "end_time": "2024-04-08T04:22:46.860573Z",
     "start_time": "2024-04-08T04:22:46.826269Z"
    }
   },
   "outputs": [
    {
     "name": "stdout",
     "output_type": "stream",
     "text": [
      "12944 12944\n"
     ]
    }
   ],
   "source": [
    "import utils as u\n",
    "import torch\n",
    "\n",
    "eng_to_rads = dict(list(u.load_eng_to_rads().items()))\n",
    "\n",
    "tensor_in, tensor_out = u.dict_to_tensors(eng_to_rads)\n",
    "tensor_in = tensor_in.to(torch.float32)\n",
    "tensor_out = tensor_out.to(torch.float32)\n",
    "print(tensor_in.shape[0], tensor_out.shape[0])"
   ]
  },
  {
   "cell_type": "code",
   "outputs": [
    {
     "name": "stdout",
     "output_type": "stream",
     "text": [
      "3883 781\n"
     ]
    }
   ],
   "source": [
    "eng_vocab, rad_vocab = list(eng_to_rads.keys()), list(set(sum(eng_to_rads.values(), [])))\n",
    "eng_word_to_idx = {word: idx for idx, word in enumerate(eng_vocab)}\n",
    "print(len(eng_vocab), len(rad_vocab))"
   ],
   "metadata": {
    "collapsed": false,
    "ExecuteTime": {
     "end_time": "2024-04-08T04:22:56.159860Z",
     "start_time": "2024-04-08T04:22:56.083438Z"
    }
   },
   "id": "2735f5863295edfe",
   "execution_count": 48
  },
  {
   "cell_type": "code",
   "outputs": [],
   "source": [
    "from utils import KanjiFFNN\n",
    "import torch.optim as optim\n",
    "import torch.nn as nn\n",
    "\n",
    "\n",
    "e2r_model = KanjiFFNN(tensor_in.shape[0], tensor_out.shape[0], tensor_out.shape[0])\n",
    "loss_fn = nn.CrossEntropyLoss()\n",
    "optimizer = optim.SGD(e2r_model.parameters(), lr=0.01)"
   ],
   "metadata": {
    "collapsed": false,
    "ExecuteTime": {
     "end_time": "2024-04-08T04:25:04.017422Z",
     "start_time": "2024-04-08T04:25:02.967914Z"
    }
   },
   "id": "b71fbff98f348da7",
   "execution_count": 62
  },
  {
   "cell_type": "code",
   "outputs": [
    {
     "name": "stdout",
     "output_type": "stream",
     "text": [
      "Epoch 0 Loss: 2628493.5\n",
      "Epoch 1 Loss: 2577212.5\n",
      "Epoch 2 Loss: 2577212.5\n",
      "Epoch 3 Loss: 2577212.5\n",
      "Epoch 4 Loss: 2577212.5\n",
      "Epoch 5 Loss: 2577212.5\n",
      "Epoch 6 Loss: 2577212.5\n",
      "Epoch 7 Loss: 2577212.5\n"
     ]
    }
   ],
   "source": [
    "# Train model\n",
    "epochs = 8\n",
    "for i in range(0, epochs):\n",
    "    # Zero the gradient buffers\n",
    "    optimizer.zero_grad()\n",
    "    output = e2r_model(tensor_in)\n",
    "    # Large\n",
    "    loss = loss_fn(tensor_out, output)\n",
    "    loss.backward()\n",
    "    # Update\n",
    "    optimizer.step()\n",
    "    print(\"Epoch {} Loss: {}\".format(i, loss.data.numpy()))"
   ],
   "metadata": {
    "ExecuteTime": {
     "end_time": "2024-04-08T04:25:07.023422Z",
     "start_time": "2024-04-08T04:25:04.019405Z"
    }
   },
   "id": "eecab921",
   "execution_count": 63
  },
  {
   "cell_type": "code",
   "outputs": [],
   "source": [
    "def preprocess_input(word):\n",
    "    one_hot = torch.zeros(len(eng_vocab))\n",
    "    word_idx = eng_vocab.index(word)\n",
    "    one_hot[word_idx] = 1\n",
    "    return one_hot"
   ],
   "metadata": {
    "collapsed": false,
    "ExecuteTime": {
     "end_time": "2024-04-08T04:25:09.089436Z",
     "start_time": "2024-04-08T04:25:09.085126Z"
    }
   },
   "id": "88b291192483ecb6",
   "execution_count": 64
  },
  {
   "cell_type": "code",
   "outputs": [],
   "source": [
    "def predict_radicals(word):\n",
    "    input_tensor = preprocess_input(word).unsqueeze(0)\n",
    "    out = e2r_model(input_tensor)\n",
    "    _, top_indices = torch.topk(output, k=5)\n",
    "    top_radicals = [rad_vocab[idx] for idx in top_indices[0]]\n",
    "    return top_radicals"
   ],
   "metadata": {
    "collapsed": false,
    "ExecuteTime": {
     "end_time": "2024-04-08T04:25:09.686404Z",
     "start_time": "2024-04-08T04:25:09.682856Z"
    }
   },
   "id": "65cdb7594c48080c",
   "execution_count": 65
  },
  {
   "cell_type": "code",
   "execution_count": null,
   "id": "802bd564",
   "metadata": {},
   "outputs": [],
   "source": [
    "import torch\n",
    "\n",
    "e2r_model.eval()\n",
    "# This errors out\n",
    "eng_word_example = 'strong'\n",
    "predicted_radicals = predict_radicals(eng_word_example)\n",
    "print(f\"Predicted radicals for '{eng_word_example}': {predicted_radicals}\")"
   ]
  },
  {
   "cell_type": "code",
   "outputs": [],
   "source": [],
   "metadata": {
    "collapsed": false
   },
   "id": "a6768d353ccd0e81"
  }
 ],
 "metadata": {
  "kernelspec": {
   "display_name": "Python 3",
   "language": "python",
   "name": "python3"
  },
  "language_info": {
   "codemirror_mode": {
    "name": "ipython",
    "version": 3
   },
   "file_extension": ".py",
   "mimetype": "text/x-python",
   "name": "python",
   "nbconvert_exporter": "python",
   "pygments_lexer": "ipython3",
   "version": "3.12.1"
  }
 },
 "nbformat": 4,
 "nbformat_minor": 5
}
