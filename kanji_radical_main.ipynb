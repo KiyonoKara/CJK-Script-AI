{
 "cells": [
  {
   "cell_type": "markdown",
   "id": "9154d22582650ef5",
   "metadata": {
    "collapsed": false
   },
   "source": [
    "# Kanji Radical Match\n",
    "\n",
    "Data processing, training, and output."
   ]
  },
  {
   "cell_type": "code",
   "execution_count": 1,
   "id": "693acae6",
   "metadata": {},
   "outputs": [
    {
     "name": "stdout",
     "output_type": "stream",
     "text": [
      "tensor([[0., 0., 0., 0., 1., 0., 0., 0., 0., 0.],\n",
      "        [0., 0., 0., 0., 0., 1., 0., 0., 0., 0.],\n",
      "        [0., 0., 0., 0., 0., 0., 0., 0., 1., 0.],\n",
      "        [0., 0., 0., 0., 0., 0., 0., 0., 0., 1.],\n",
      "        [0., 0., 0., 1., 0., 0., 0., 0., 0., 0.],\n",
      "        [0., 0., 0., 0., 0., 0., 0., 1., 0., 0.],\n",
      "        [0., 0., 0., 0., 0., 0., 1., 0., 0., 0.],\n",
      "        [0., 1., 0., 0., 0., 0., 0., 0., 0., 0.],\n",
      "        [0., 0., 1., 0., 0., 0., 0., 0., 0., 0.],\n",
      "        [1., 0., 0., 0., 0., 0., 0., 0., 0., 0.]])\n",
      "['eight' 'enter' 'insert' 'nine' 'one' 'one radical (no.1)' 'person'\n",
      " 'seven' 'two' 'two radical (no. 7)']\n",
      "tensor([[1., 0., 0., 0., 0., 0., 0., 0., 0., 0., 0., 0., 0., 1., 0., 0., 1., 1.,\n",
      "         0.],\n",
      "        [0., 0., 0., 0., 0., 0., 0., 0., 0., 0., 0., 0., 0., 0., 0., 0., 0., 0.,\n",
      "         0.],\n",
      "        [0., 1., 0., 0., 1., 0., 1., 0., 0., 1., 1., 0., 0., 0., 0., 0., 0., 0.,\n",
      "         0.],\n",
      "        [0., 0., 0., 0., 0., 0., 0., 0., 0., 0., 0., 0., 0., 0., 0., 0., 0., 0.,\n",
      "         0.],\n",
      "        [0., 0., 1., 1., 0., 0., 0., 0., 0., 0., 0., 0., 0., 0., 0., 0., 0., 0.,\n",
      "         0.],\n",
      "        [0., 1., 0., 1., 0., 0., 0., 0., 0., 0., 0., 0., 0., 0., 1., 1., 0., 0.,\n",
      "         0.],\n",
      "        [0., 0., 0., 0., 0., 1., 0., 0., 0., 0., 0., 0., 1., 0., 0., 0., 0., 0.,\n",
      "         1.],\n",
      "        [0., 0., 0., 0., 0., 0., 0., 0., 0., 0., 0., 0., 0., 0., 0., 0., 0., 0.,\n",
      "         0.],\n",
      "        [0., 0., 0., 0., 0., 0., 0., 1., 1., 0., 0., 1., 1., 0., 0., 0., 0., 0.,\n",
      "         0.],\n",
      "        [0., 0., 0., 0., 0., 0., 0., 0., 0., 0., 0., 0., 0., 0., 0., 0., 0., 0.,\n",
      "         0.]])\n"
     ]
    }
   ],
   "source": [
    "import utils as u\n",
    "import torch.nn as nn\n",
    "\n",
    "eng_to_rads = dict(list(u.load_eng_to_rads().items())[:10])\n",
    "# print(eng_to_rads)\n",
    "eng_tens, rad_tens, eng_vocab, rad_vocab = u.dict_to_tensors(eng_to_rads)\n",
    "\n",
    "print(eng_tens)\n",
    "print(eng_vocab)\n",
    "print(rad_tens)"
   ]
  },
  {
   "cell_type": "code",
   "execution_count": 10,
   "id": "b71fbff98f348da7",
   "metadata": {
    "collapsed": false
   },
   "outputs": [],
   "source": [
    "\n",
    "from utils import KanjiFFNN\n",
    "import torch.optim as optim\n",
    "import torch.nn as nn\n",
    "\n",
    "e2r_model = KanjiFFNN(eng_tens.size(1), rad_tens.size(1), 20)\n",
    "criterion = nn.BCELoss()\n",
    "\n",
    "optimizer = optim.SGD(e2r_model.parameters(), lr=0.01)"
   ]
  },
  {
   "cell_type": "code",
   "execution_count": 11,
   "id": "f34b62a4",
   "metadata": {},
   "outputs": [
    {
     "name": "stdout",
     "output_type": "stream",
     "text": [
      "Epoch        0 Loss: 0.6886647343635559\n",
      "Epoch     1000 Loss: 0.08570586889982224\n",
      "Epoch     2000 Loss: 0.04633995145559311\n",
      "Epoch     3000 Loss: 0.020722711458802223\n",
      "Epoch     4000 Loss: 0.010451470501720905\n",
      "Epoch     5000 Loss: 0.006373001262545586\n",
      "Epoch     6000 Loss: 0.004408231005072594\n",
      "Epoch     7000 Loss: 0.00330350105650723\n",
      "Epoch     8000 Loss: 0.0026117197703570127\n",
      "Epoch     9000 Loss: 0.002144109457731247\n",
      "Epoch    10000 Loss: 0.001809595851227641\n",
      "Epoch    11000 Loss: 0.001559860073029995\n",
      "Epoch    12000 Loss: 0.0013667308958247304\n",
      "Epoch    13000 Loss: 0.0012133577838540077\n",
      "Epoch    14000 Loss: 0.0010893361177295446\n",
      "Epoch    15000 Loss: 0.000987089122645557\n",
      "Epoch    16000 Loss: 0.0009014108218252659\n",
      "Epoch    17000 Loss: 0.0008286729571409523\n",
      "Epoch    18000 Loss: 0.0007661492563784122\n",
      "Epoch    19000 Loss: 0.00071195128839463\n",
      "Epoch    20000 Loss: 0.0006644469685852528\n",
      "Epoch    21000 Loss: 0.0006226554396562278\n",
      "Epoch    22000 Loss: 0.0005855364724993706\n",
      "Epoch    23000 Loss: 0.000552258687093854\n",
      "Epoch    24000 Loss: 0.000522502523381263\n",
      "Epoch    25000 Loss: 0.0004955505719408393\n",
      "Epoch    26000 Loss: 0.0004711080400738865\n",
      "Epoch    27000 Loss: 0.00044887117110192776\n",
      "Epoch    28000 Loss: 0.000428507017204538\n",
      "Epoch    29000 Loss: 0.00040986022213473916\n"
     ]
    }
   ],
   "source": [
    "epochs = 30000\n",
    "\n",
    "# Now train the model\n",
    "\n",
    "for idx in range(0, epochs):\n",
    "    for input, target in zip(eng_tens, rad_tens):\n",
    "        optimizer.zero_grad()   # zero the gradient buffers\n",
    "        output = e2r_model(input)\n",
    "        loss = criterion(output, target)\n",
    "        loss.backward()\n",
    "        optimizer.step()    # Does the update\n",
    "    if idx % 1000 == 0:\n",
    "        print(\"Epoch {: >8} Loss: {}\".format(idx, loss.data.numpy()))"
   ]
  },
  {
   "cell_type": "code",
   "execution_count": 17,
   "id": "05d10501",
   "metadata": {},
   "outputs": [
    {
     "name": "stdout",
     "output_type": "stream",
     "text": [
      "[1]\n"
     ]
    }
   ],
   "source": [
    "import torch\n",
    "\n",
    "res = e2r_model(torch.tensor([0., 0., 0., 0., 1., 0., 0., 0., 0., 0.]))"
   ]
  },
  {
   "cell_type": "code",
   "execution_count": 8,
   "id": "e5662789",
   "metadata": {},
   "outputs": [],
   "source": [
    "\n",
    "torch.save(e2r_model, \"model.pt\")"
   ]
  },
  {
   "cell_type": "code",
   "execution_count": null,
   "id": "390046fe",
   "metadata": {},
   "outputs": [],
   "source": []
  }
 ],
 "metadata": {
  "kernelspec": {
   "display_name": "Python 3",
   "language": "python",
   "name": "python3"
  },
  "language_info": {
   "codemirror_mode": {
    "name": "ipython",
    "version": 3
   },
   "file_extension": ".py",
   "mimetype": "text/x-python",
   "name": "python",
   "nbconvert_exporter": "python",
   "pygments_lexer": "ipython3",
   "version": "3.11.7"
  }
 },
 "nbformat": 4,
 "nbformat_minor": 5
}
