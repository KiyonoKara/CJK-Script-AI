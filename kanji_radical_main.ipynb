{
 "cells": [
  {
   "cell_type": "markdown",
   "id": "9154d22582650ef5",
   "metadata": {
    "collapsed": false
   },
   "source": [
    "# Kanji Radical Match\n",
    "\n",
    "Data processing, training, and output."
   ]
  },
  {
   "cell_type": "code",
   "execution_count": null,
   "id": "693acae6",
   "metadata": {},
   "outputs": [],
   "source": [
    "import utils as u\n",
    "\n",
    "eng_to_rads = dict(list(u.load_eng_to_rads().items())[:10])\n",
    "print(eng_to_rads)\n",
    "eng_tens, rad_tens = u.dict_to_tensors(eng_to_rads)\n",
    "#print(eng_tens)"
   ]
  },
  {
   "cell_type": "code",
   "execution_count": null,
   "id": "b71fbff98f348da7",
   "metadata": {
    "collapsed": false
   },
   "outputs": [],
   "source": [
    "\n",
    "from utils import KanjiFFNN\n",
    "import torch.optim as optim\n",
    "import torch.nn as nn\n",
    "\n",
    "e2r_model = KanjiFFNN()\n",
    "criterion = nn.BCELoss()\n",
    "\n",
    "optimizer = optim.SGD(e2r_model.parameters(), lr=0.01)"
   ]
  }
 ],
 "metadata": {
  "kernelspec": {
   "display_name": "Python 3",
   "language": "python",
   "name": "python3"
  },
  "language_info": {
   "codemirror_mode": {
    "name": "ipython",
    "version": 3
   },
   "file_extension": ".py",
   "mimetype": "text/x-python",
   "name": "python",
   "nbconvert_exporter": "python",
   "pygments_lexer": "ipython3",
   "version": "3.11.7"
  }
 },
 "nbformat": 4,
 "nbformat_minor": 5
}
