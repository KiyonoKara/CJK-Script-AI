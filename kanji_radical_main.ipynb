{
 "cells": [
  {
   "cell_type": "markdown",
   "source": [
    "# Kanji Radical Match\n",
    "\n",
    "Data processing, training, and output."
   ],
   "metadata": {
    "collapsed": false
   },
   "id": "9154d22582650ef5"
  },
  {
   "cell_type": "code",
   "outputs": [],
   "source": [
    "import utils as u\n",
    "from utils import KanjiFFNN\n",
    "import torch.optim as optim\n",
    "import torch.nn as nn\n",
    "\n",
    "e2r_model = KanjiFFNN()\n",
    "criterion = nn.BCELoss()\n",
    "\n",
    "optimizer = optim.SGD(e2r_model.parameters(), lr=0.01)"
   ],
   "metadata": {
    "collapsed": false
   },
   "id": "b71fbff98f348da7"
  }
 ],
 "metadata": {
  "kernelspec": {
   "display_name": "Python 3",
   "language": "python",
   "name": "python3"
  },
  "language_info": {
   "codemirror_mode": {
    "name": "ipython",
    "version": 2
   },
   "file_extension": ".py",
   "mimetype": "text/x-python",
   "name": "python",
   "nbconvert_exporter": "python",
   "pygments_lexer": "ipython2",
   "version": "2.7.6"
  }
 },
 "nbformat": 4,
 "nbformat_minor": 5
}
