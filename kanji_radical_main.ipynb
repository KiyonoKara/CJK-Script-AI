{
 "cells": [
  {
   "cell_type": "markdown",
   "id": "9154d22582650ef5",
   "metadata": {
    "collapsed": false
   },
   "source": [
    "# Kanji Radical Match\n",
    "\n",
    "Loading data, training, and output."
   ]
  },
  {
   "cell_type": "code",
   "execution_count": 1,
   "id": "60c875da94788db9",
   "metadata": {
    "ExecuteTime": {
     "end_time": "2024-04-09T22:58:09.524220Z",
     "start_time": "2024-04-09T22:58:08.824489Z"
    },
    "collapsed": false
   },
   "outputs": [],
   "source": [
    "import utils as u\n",
    "import torch.nn as nn\n",
    "import torch\n",
    "from utils import KanjiFFNN\n",
    "import torch.optim as optim\n",
    "import matplotlib.pyplot as plt\n",
    "import matplotlib.font_manager as fm"
   ]
  },
  {
   "cell_type": "code",
   "execution_count": 2,
   "id": "693acae6",
   "metadata": {
    "ExecuteTime": {
     "end_time": "2024-04-09T22:58:09.644026Z",
     "start_time": "2024-04-09T22:58:09.524940Z"
    }
   },
   "outputs": [],
   "source": [
    "eng_to_rads = dict(list(u.load_eng_to_rads().items()))\n",
    "eng_tens, rad_tens, eng_vocab, rad_vocab = u.dict_to_tensors(eng_to_rads)"
   ]
  },
  {
   "cell_type": "code",
   "execution_count": 3,
   "id": "8ecdac8fcb157f0a",
   "metadata": {
    "ExecuteTime": {
     "end_time": "2024-04-09T22:58:09.647298Z",
     "start_time": "2024-04-09T22:58:09.645125Z"
    },
    "collapsed": false
   },
   "outputs": [
    {
     "name": "stdout",
     "output_type": "stream",
     "text": [
      "Vocabulary size: 5191\n",
      "Radical vocabulary size: 241\n"
     ]
    }
   ],
   "source": [
    "print(\"Vocabulary size:\", len(eng_vocab))\n",
    "print(\"Radical vocabulary size:\", len(rad_vocab))\n"
   ]
  },
  {
   "cell_type": "code",
   "execution_count": 4,
   "id": "a8a47ed0e3b244f9",
   "metadata": {
    "ExecuteTime": {
     "end_time": "2024-04-09T22:58:09.652356Z",
     "start_time": "2024-04-09T22:58:09.647988Z"
    },
    "collapsed": false
   },
   "outputs": [
    {
     "name": "stdout",
     "output_type": "stream",
     "text": [
      "tensor([[0., 0., 0.,  ..., 0., 0., 0.],\n",
      "        [0., 0., 0.,  ..., 0., 0., 0.],\n",
      "        [0., 0., 0.,  ..., 0., 0., 0.],\n",
      "        [0., 0., 0.,  ..., 0., 0., 0.],\n",
      "        [0., 0., 0.,  ..., 0., 0., 0.]])\n",
      "['%' '(kokuji)' '(north) korea' '(parallels of) latitude' '-']\n",
      "tensor([[0., 0., 0.,  ..., 0., 0., 0.],\n",
      "        [0., 0., 0.,  ..., 0., 0., 0.],\n",
      "        [0., 0., 0.,  ..., 0., 0., 1.],\n",
      "        [0., 0., 0.,  ..., 0., 0., 0.],\n",
      "        [0., 0., 0.,  ..., 0., 0., 0.]])\n",
      "['ノ' 'ハ' 'マ' 'ユ' 'ヨ']\n"
     ]
    }
   ],
   "source": [
    "# Print a small sample of our data\n",
    "print(eng_tens[:5])\n",
    "print(eng_vocab[:5])\n",
    "print(rad_tens[:5])\n",
    "print(rad_vocab[:5])"
   ]
  },
  {
   "cell_type": "code",
   "execution_count": 5,
   "id": "b7800814",
   "metadata": {
    "ExecuteTime": {
     "end_time": "2024-04-09T22:58:09.661493Z",
     "start_time": "2024-04-09T22:58:09.654215Z"
    }
   },
   "outputs": [
    {
     "name": "stdout",
     "output_type": "stream",
     "text": [
      "tensor([0., 0., 0.,  ..., 0., 0., 0.])\n"
     ]
    }
   ],
   "source": [
    "# Example\n",
    "print(u.get_tensor_from_word(\"eight\", eng_tens, eng_vocab))"
   ]
  },
  {
   "cell_type": "code",
   "execution_count": 6,
   "id": "b71fbff98f348da7",
   "metadata": {
    "ExecuteTime": {
     "end_time": "2024-04-09T22:59:54.954368Z",
     "start_time": "2024-04-09T22:59:54.948766Z"
    },
    "collapsed": false
   },
   "outputs": [],
   "source": [
    "e2r_model = KanjiFFNN(eng_tens.size(1), rad_tens.size(1))\n",
    "criterion = nn.BCELoss()\n",
    "optimizer = optim.Adam(e2r_model.parameters(), lr=1e-3)\n",
    "lr_scheduler = optim.lr_scheduler.ExponentialLR(optimizer, gamma=0.9)"
   ]
  },
  {
   "cell_type": "code",
   "execution_count": 7,
   "id": "f34b62a4",
   "metadata": {
    "ExecuteTime": {
     "end_time": "2024-04-09T23:00:40.403597Z",
     "start_time": "2024-04-09T22:59:55.058556Z"
    }
   },
   "outputs": [
    {
     "name": "stdout",
     "output_type": "stream",
     "text": [
      "Epoch        1 Loss: 0.08043680340051651\n",
      "Epoch        2 Loss: 0.08324290066957474\n",
      "Epoch        3 Loss: 0.0782073587179184\n",
      "Epoch        4 Loss: 0.07161353528499603\n",
      "Epoch        5 Loss: 0.06252215802669525\n",
      "Epoch        6 Loss: 0.04567135125398636\n",
      "Epoch        7 Loss: 0.03553079441189766\n",
      "Epoch        8 Loss: 0.034837234765291214\n"
     ]
    }
   ],
   "source": [
    "epochs = 8\n",
    "\n",
    "e2r_model.train_fit(eng_tens, rad_tens, optimizer, criterion, epochs=epochs, scheduler=lr_scheduler, verbose=True)"
   ]
  },
  {
   "cell_type": "code",
   "execution_count": 8,
   "id": "e5662789",
   "metadata": {
    "ExecuteTime": {
     "end_time": "2024-04-09T23:00:49.892225Z",
     "start_time": "2024-04-09T23:00:49.884891Z"
    }
   },
   "outputs": [],
   "source": [
    "torch.save(e2r_model, \"./models/model.pt\")"
   ]
  },
  {
   "cell_type": "code",
   "execution_count": 9,
   "id": "d1df00c3",
   "metadata": {
    "ExecuteTime": {
     "end_time": "2024-04-09T23:00:51.985484Z",
     "start_time": "2024-04-09T23:00:51.979462Z"
    }
   },
   "outputs": [],
   "source": [
    "torch.save(e2r_model.state_dict(), \"./models/model_state_dict.pt\")"
   ]
  },
  {
   "cell_type": "code",
   "execution_count": 10,
   "id": "9952bac3",
   "metadata": {},
   "outputs": [
    {
     "data": {
      "text/plain": [
       "KanjiFFNN(\n",
       "  (input): Linear(in_features=5191, out_features=600, bias=True)\n",
       "  (hid1): Linear(in_features=600, out_features=400, bias=True)\n",
       "  (hid2): Linear(in_features=400, out_features=300, bias=True)\n",
       "  (output): Linear(in_features=300, out_features=241, bias=True)\n",
       ")"
      ]
     },
     "execution_count": 10,
     "metadata": {},
     "output_type": "execute_result"
    }
   ],
   "source": [
    "loaded_model = KanjiFFNN(eng_tens.size(1), rad_tens.size(1))\n",
    "loaded_model.load_state_dict(torch.load(\"./models/model_state_dict.pt\"))\n",
    "loaded_model.eval()"
   ]
  },
  {
   "cell_type": "code",
   "execution_count": 11,
   "id": "423571b9",
   "metadata": {
    "ExecuteTime": {
     "end_time": "2024-04-09T23:00:59.483106Z",
     "start_time": "2024-04-09T23:00:59.465774Z"
    }
   },
   "outputs": [
    {
     "name": "stdout",
     "output_type": "stream",
     "text": [
      "tensor([4.5169e-02, 7.7497e-01, 1.1157e-06, 3.8234e-06, 1.1212e-02, 1.5454e-01,\n",
      "        3.0724e-10, 1.0417e-02, 8.7129e-03, 5.0595e-07, 1.4035e-09, 3.0790e-05,\n",
      "        9.0093e-07, 1.6326e-04, 4.4131e-09, 1.2255e-13, 2.5354e-04, 2.2802e-02,\n",
      "        4.0797e-11, 5.2169e-06, 1.4140e-02, 7.0404e-10, 3.4582e-02, 6.0578e-05,\n",
      "        8.0677e-07, 6.0121e-10, 5.2098e-09, 6.0176e-03, 2.6384e-06, 8.0892e-05,\n",
      "        6.8535e-05, 1.4349e-05, 4.3568e-05, 9.2594e-03, 1.6088e-03, 6.4187e-05,\n",
      "        6.2857e-05, 1.1543e-04, 1.0597e-06, 9.5253e-05, 4.8485e-03, 2.5561e-06,\n",
      "        3.9986e-02, 2.3706e-03, 3.7992e-06, 5.3930e-06, 1.0353e-04, 1.7145e-04,\n",
      "        6.9307e-07, 4.5395e-02, 6.8311e-07, 3.0087e-06, 1.9040e-03, 2.1996e-05,\n",
      "        5.9363e-04, 6.6070e-08, 6.1456e-03, 1.1098e-15, 9.6671e-05, 1.7439e-06,\n",
      "        1.7499e-03, 1.4793e-04, 5.0801e-03, 1.6181e-05, 3.4169e-09, 8.6248e-10,\n",
      "        4.9456e-03, 2.5057e-08, 1.4514e-05, 3.3339e-03, 5.9189e-06, 1.2153e-12,\n",
      "        5.7554e-08, 5.2782e-04, 5.5741e-09, 3.1566e-06, 6.8981e-10, 2.3917e-04,\n",
      "        1.3586e-06, 2.2087e-02, 1.1855e-04, 1.3963e-05, 2.1354e-08, 2.4046e-04,\n",
      "        2.7497e-05, 2.2690e-06, 3.2618e-07, 6.2846e-06, 4.6266e-06, 2.6736e-04,\n",
      "        2.0108e-03, 6.8297e-04, 2.6819e-04, 9.0237e-06, 5.7841e-03, 6.5765e-07,\n",
      "        1.1702e-05, 3.5147e-06, 1.5170e-08, 1.3685e-09, 7.3878e-05, 9.3523e-07,\n",
      "        5.6005e-04, 1.1636e-03, 1.1373e-02, 3.2781e-05, 5.4640e-04, 2.4042e-03,\n",
      "        2.2021e-14, 3.5729e-06, 4.5229e-07, 3.1252e-08, 2.8648e-08, 1.1304e-09,\n",
      "        4.7187e-10, 1.1267e-09, 5.7403e-10, 2.5584e-04, 9.3759e-03, 1.3383e-05,\n",
      "        2.1076e-06, 1.0806e-09, 1.7293e-05, 2.7977e-07, 1.0559e-15, 1.4404e-07,\n",
      "        1.1040e-11, 1.4673e-09, 4.3723e-05, 1.3539e-08, 1.2189e-06, 2.7506e-08,\n",
      "        1.5132e-02, 1.9825e-12, 1.1685e-11, 9.3084e-06, 1.2591e-08, 6.6209e-07,\n",
      "        2.5017e-03, 1.4413e-05, 8.2087e-07, 1.1414e-06, 9.8189e-07, 1.3757e-11,\n",
      "        2.2713e-05, 6.8477e-01, 2.3756e-15, 8.2714e-06, 1.6600e-06, 3.5431e-04,\n",
      "        9.7511e-07, 5.0275e-06, 8.0979e-05, 2.8426e-06, 2.1398e-04, 1.6213e-09,\n",
      "        2.8755e-05, 2.8260e-05, 2.1688e-05, 7.2851e-10, 3.6038e-04, 1.7549e-08,\n",
      "        3.6965e-06, 2.3474e-08, 2.2929e-09, 5.0665e-09, 6.9118e-09, 3.5208e-12,\n",
      "        1.8372e-04, 9.9901e-08, 1.4292e-06, 3.1070e-06, 6.0468e-09, 4.6461e-10,\n",
      "        6.9390e-09, 1.1144e-08, 7.4347e-07, 7.1785e-05, 2.6931e-09, 9.9570e-07,\n",
      "        7.7738e-15, 2.5754e-06, 3.6241e-04, 4.8041e-07, 1.0661e-07, 6.4196e-10,\n",
      "        9.8970e-03, 7.4597e-07, 8.0826e-07, 1.4593e-05, 2.0425e-13, 1.4228e-01,\n",
      "        8.1222e-05, 3.1117e-07, 1.1360e-09, 1.1732e-05, 3.2144e-10, 2.3372e-08,\n",
      "        5.4279e-06, 1.2586e-11, 5.4093e-04, 9.2229e-07, 6.5251e-06, 1.3738e-10,\n",
      "        1.2767e-05, 4.1939e-04, 1.0466e-12, 1.3787e-06, 1.3805e-04, 5.0139e-08,\n",
      "        4.2577e-05, 2.2621e-08, 2.3005e-07, 3.7129e-07, 3.4314e-09, 6.1587e-11,\n",
      "        4.6686e-08, 4.3004e-08, 1.8191e-03, 8.2257e-10, 3.2151e-20, 6.0089e-06,\n",
      "        5.4901e-10, 1.9310e-17, 2.8843e-06, 1.2874e-08, 7.0275e-12, 6.6834e-16,\n",
      "        2.9962e-15, 1.1350e-09, 5.0273e-08, 3.6045e-10, 5.9528e-14, 8.5038e-12,\n",
      "        1.2275e-10, 1.8714e-12, 1.6989e-11, 7.9280e-17, 4.2990e-12, 3.2872e-14,\n",
      "        2.3238e-02], grad_fn=<SigmoidBackward0>)\n"
     ]
    }
   ],
   "source": [
    "tensor = u.get_tensor_from_word(\"eight\", eng_tens, eng_vocab)\n",
    "res = e2r_model(tensor)\n",
    "print(res)"
   ]
  },
  {
   "cell_type": "code",
   "execution_count": 12,
   "id": "24543e26",
   "metadata": {
    "ExecuteTime": {
     "end_time": "2024-04-09T23:03:34.075680Z",
     "start_time": "2024-04-09T23:03:33.944668Z"
    }
   },
   "outputs": [
    {
     "data": {
      "image/png": "[encoded data removed]",
      "text/plain": [
       "<Figure size 640x480 with 1 Axes>"
      ]
     },
     "metadata": {},
     "output_type": "display_data"
    }
   ],
   "source": [
    "fprop = fm.FontProperties(fname='NotoSansCJKtc-Regular.otf')\n",
    "radicals = rad_vocab[:20]\n",
    "probabilities = res.tolist()[:20]\n",
    "\n",
    "fig, axs = plt.subplots()\n",
    "axs.bar(radicals, probabilities)\n",
    "axs.set_xticks(range(len(radicals)), radicals, fontproperties=fprop)\n",
    "plt.show()"
   ]
  },
  {
   "cell_type": "code",
   "execution_count": 14,
   "id": "fb30f599",
   "metadata": {},
   "outputs": [
    {
     "name": "stdout",
     "output_type": "stream",
     "text": [
      "0.001541128876902331\n"
     ]
    }
   ],
   "source": [
    "from sklearn.metrics import accuracy_score\n",
    "\n",
    "with torch.no_grad():\n",
    "    pred = e2r_model(eng_tens)\n",
    "    pred = torch.round(pred)\n",
    "    print(accuracy_score(pred, rad_tens))"
   ]
  }
 ],
 "metadata": {
  "kernelspec": {
   "display_name": "Python 3",
   "language": "python",
   "name": "python3"
  },
  "language_info": {
   "codemirror_mode": {
    "name": "ipython",
    "version": 3
   },
   "file_extension": ".py",
   "mimetype": "text/x-python",
   "name": "python",
   "nbconvert_exporter": "python",
   "pygments_lexer": "ipython3",
   "version": "3.10.11"
  }
 },
 "nbformat": 4,
 "nbformat_minor": 5
}
