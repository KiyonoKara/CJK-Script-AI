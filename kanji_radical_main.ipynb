{
 "cells": [
  {
   "cell_type": "markdown",
   "id": "9154d22582650ef5",
   "metadata": {
    "collapsed": false
   },
   "source": [
    "# Kanji Radical Match\n",
    "\n",
    "Loading data, training, and output."
   ]
  },
  {
   "cell_type": "code",
   "execution_count": 1,
   "id": "60c875da94788db9",
   "metadata": {
    "collapsed": false,
    "ExecuteTime": {
     "end_time": "2024-04-11T14:58:05.567987Z",
     "start_time": "2024-04-11T14:58:04.374070Z"
    }
   },
   "outputs": [],
   "source": [
    "import utils as u\n",
    "import torch.nn as nn\n",
    "import torch\n",
    "from utils import KanjiFFNN\n",
    "import torch.optim as optim\n",
    "import matplotlib.pyplot as plt\n",
    "import matplotlib.font_manager as fm\n",
    "from sklearn.metrics import accuracy_score, precision_score, recall_score, f1_score"
   ]
  },
  {
   "cell_type": "code",
   "execution_count": 2,
   "id": "693acae6",
   "metadata": {
    "ExecuteTime": {
     "end_time": "2024-04-11T14:58:06.670418Z",
     "start_time": "2024-04-11T14:58:06.142062Z"
    }
   },
   "outputs": [],
   "source": [
    "eng_to_rads = dict(list(u.load_eng_to_rads().items()))\n",
    "eng_tens, rad_tens, eng_vocab, rad_vocab = u.dict_to_tensors(eng_to_rads)"
   ]
  },
  {
   "cell_type": "code",
   "execution_count": 3,
   "id": "8ecdac8fcb157f0a",
   "metadata": {
    "collapsed": false,
    "ExecuteTime": {
     "end_time": "2024-04-11T14:58:06.676552Z",
     "start_time": "2024-04-11T14:58:06.672654Z"
    }
   },
   "outputs": [
    {
     "name": "stdout",
     "output_type": "stream",
     "text": [
      "Vocabulary size: 12531\n",
      "Radical vocabulary size: 253\n"
     ]
    }
   ],
   "source": [
    "print(\"Vocabulary size:\", len(eng_vocab))\n",
    "print(\"Radical vocabulary size:\", len(rad_vocab))\n"
   ]
  },
  {
   "cell_type": "code",
   "execution_count": 4,
   "id": "a8a47ed0e3b244f9",
   "metadata": {
    "collapsed": false,
    "ExecuteTime": {
     "end_time": "2024-04-11T14:58:14.078985Z",
     "start_time": "2024-04-11T14:58:14.071345Z"
    }
   },
   "outputs": [
    {
     "name": "stdout",
     "output_type": "stream",
     "text": [
      "tensor([[0., 0., 0.,  ..., 0., 0., 0.],\n",
      "        [0., 0., 0.,  ..., 0., 0., 0.],\n",
      "        [0., 0., 0.,  ..., 0., 0., 0.],\n",
      "        [0., 0., 0.,  ..., 0., 0., 0.],\n",
      "        [0., 0., 0.,  ..., 0., 0., 0.]])\n",
      "['\"male\" principle' '\"summer\"' '%' \"'female' principle\" \"'kimono' sleeve\"]\n",
      "tensor([[0., 0., 0.,  ..., 0., 0., 1.],\n",
      "        [0., 0., 0.,  ..., 0., 0., 1.],\n",
      "        [0., 0., 0.,  ..., 0., 0., 1.],\n",
      "        [0., 0., 0.,  ..., 0., 0., 1.],\n",
      "        [0., 0., 0.,  ..., 0., 0., 1.]])\n",
      "['ノ' 'ハ' 'マ' 'ユ' 'ヨ']\n"
     ]
    }
   ],
   "source": [
    "# Print a small sample of our data\n",
    "print(eng_tens[:5])\n",
    "print(eng_vocab[:5])\n",
    "print(rad_tens[:5])\n",
    "print(rad_vocab[:5])"
   ]
  },
  {
   "cell_type": "code",
   "execution_count": 5,
   "id": "b7800814",
   "metadata": {
    "ExecuteTime": {
     "end_time": "2024-04-11T14:58:18.551666Z",
     "start_time": "2024-04-11T14:58:18.511287Z"
    }
   },
   "outputs": [
    {
     "name": "stdout",
     "output_type": "stream",
     "text": [
      "tensor([0., 0., 0.,  ..., 0., 0., 0.])\n"
     ]
    }
   ],
   "source": [
    "# Example\n",
    "print(u.get_tensor_from_word(\"eight\", eng_tens, eng_vocab))"
   ]
  },
  {
   "cell_type": "code",
   "execution_count": 7,
   "id": "b71fbff98f348da7",
   "metadata": {
    "collapsed": false,
    "ExecuteTime": {
     "end_time": "2024-04-11T14:58:24.948541Z",
     "start_time": "2024-04-11T14:58:24.926632Z"
    }
   },
   "outputs": [],
   "source": [
    "e2r_model = KanjiFFNN(eng_tens.size(1), rad_tens.size(1))\n",
    "criterion = nn.BCELoss()\n",
    "optimizer = optim.Adam(e2r_model.parameters(), lr=1e-3)\n",
    "lr_scheduler = optim.lr_scheduler.ExponentialLR(optimizer, gamma=0.9)"
   ]
  },
  {
   "cell_type": "code",
   "execution_count": 8,
   "id": "f34b62a4",
   "metadata": {
    "ExecuteTime": {
     "end_time": "2024-04-11T15:09:54.858112Z",
     "start_time": "2024-04-11T14:58:39.434064Z"
    }
   },
   "outputs": [
    {
     "name": "stdout",
     "output_type": "stream",
     "text": [
      "Epoch        1 Loss: 2.010141088248929e-06\n",
      "Epoch        2 Loss: 2.18109562410973e-05\n",
      "Epoch        3 Loss: 6.914364348631352e-06\n",
      "Epoch        4 Loss: 1.6785830666776747e-05\n",
      "Epoch        5 Loss: 1.275197064387612e-05\n",
      "Epoch        6 Loss: 1.2880936992587522e-05\n",
      "Epoch        7 Loss: 3.3882611205626745e-06\n",
      "Epoch        8 Loss: 1.2071687933712383e-06\n"
     ]
    }
   ],
   "source": [
    "epochs = 8\n",
    "\n",
    "e2r_model.train_fit(eng_tens, rad_tens, optimizer, criterion, epochs=epochs, scheduler=lr_scheduler, verbose=True)"
   ]
  },
  {
   "cell_type": "code",
   "execution_count": 9,
   "id": "e5662789",
   "metadata": {
    "ExecuteTime": {
     "end_time": "2024-04-11T15:10:07.863801Z",
     "start_time": "2024-04-11T15:10:07.825369Z"
    }
   },
   "outputs": [],
   "source": [
    "torch.save(e2r_model, \"./models/model_v2.pt\")"
   ]
  },
  {
   "cell_type": "code",
   "execution_count": 10,
   "id": "d1df00c3",
   "metadata": {
    "ExecuteTime": {
     "end_time": "2024-04-11T15:10:10.326817Z",
     "start_time": "2024-04-11T15:10:10.289207Z"
    }
   },
   "outputs": [],
   "source": [
    "torch.save(e2r_model.state_dict(), \"./models/model_v2_state_dict.pt\")"
   ]
  },
  {
   "cell_type": "code",
   "execution_count": 11,
   "id": "9952bac3",
   "metadata": {
    "ExecuteTime": {
     "end_time": "2024-04-11T15:10:35.926093Z",
     "start_time": "2024-04-11T15:10:35.892218Z"
    }
   },
   "outputs": [
    {
     "data": {
      "text/plain": "KanjiFFNN(\n  (input): Linear(in_features=12531, out_features=253, bias=True)\n  (hid1): Linear(in_features=253, out_features=300, bias=True)\n  (output): Linear(in_features=300, out_features=253, bias=True)\n)"
     },
     "execution_count": 11,
     "metadata": {},
     "output_type": "execute_result"
    }
   ],
   "source": [
    "loaded_model = KanjiFFNN(eng_tens.size(1), rad_tens.size(1))\n",
    "loaded_model.load_state_dict(torch.load(\"./models/model_v2_state_dict.pt\"))\n",
    "loaded_model.eval()"
   ]
  },
  {
   "cell_type": "code",
   "execution_count": 12,
   "id": "423571b9",
   "metadata": {
    "ExecuteTime": {
     "end_time": "2024-04-11T15:10:54.163512Z",
     "start_time": "2024-04-11T15:10:54.125244Z"
    }
   },
   "outputs": [
    {
     "name": "stdout",
     "output_type": "stream",
     "text": [
      "tensor([4.3705e-02, 3.9345e-01, 9.1977e-06, 9.2150e-04, 1.5960e-02, 2.0304e-02,\n",
      "        2.6551e-03, 1.0213e-02, 4.5009e-02, 1.3245e-05, 8.2584e-07, 3.3370e-03,\n",
      "        4.3560e-03, 1.8998e-04, 1.5283e-05, 4.1099e-08, 2.6898e-02, 1.1968e-01,\n",
      "        2.6496e-05, 7.6935e-04, 9.6092e-02, 5.2774e-05, 2.0740e-01, 3.8948e-01,\n",
      "        1.3081e-03, 8.9509e-05, 6.1031e-05, 3.4341e-02, 7.1659e-06, 1.8691e-01,\n",
      "        7.8907e-03, 1.3916e-03, 2.4811e-02, 1.3278e-01, 1.4392e-02, 1.5153e-05,\n",
      "        4.4338e-02, 1.1300e-01, 5.2790e-04, 6.0203e-02, 6.5909e-02, 1.1122e-02,\n",
      "        1.7078e-01, 4.8732e-03, 6.6875e-03, 1.6846e-02, 1.7531e-01, 8.7856e-02,\n",
      "        3.9110e-06, 2.4138e-01, 2.3942e-04, 3.0816e-02, 2.2000e-01, 4.3880e-02,\n",
      "        4.5351e-02, 6.2367e-03, 3.5806e-01, 4.2673e-05, 2.5897e-02, 2.0417e-03,\n",
      "        1.7192e-01, 1.1294e-01, 1.0928e-03, 5.7019e-02, 2.7337e-05, 2.2545e-06,\n",
      "        4.3534e-04, 7.1227e-04, 2.9846e-04, 3.0512e-02, 8.0987e-07, 2.7414e-04,\n",
      "        8.0060e-05, 6.2681e-03, 2.1493e-07, 5.3313e-02, 6.5781e-05, 3.8105e-03,\n",
      "        6.6893e-03, 9.3338e-02, 2.4386e-04, 1.6725e-02, 2.7173e-04, 2.9068e-03,\n",
      "        4.7547e-04, 1.7020e-02, 4.8743e-07, 5.6324e-04, 9.5284e-04, 3.6016e-02,\n",
      "        1.4954e-02, 7.3871e-03, 2.6398e-07, 1.1521e-03, 1.4265e-02, 2.9935e-03,\n",
      "        4.5997e-04, 2.8520e-04, 1.1109e-07, 6.9460e-05, 1.3478e-02, 3.6456e-04,\n",
      "        8.5324e-04, 1.8728e-01, 5.2300e-04, 5.6350e-02, 8.8015e-02, 1.5092e-01,\n",
      "        9.0867e-03, 7.1651e-04, 7.2342e-07, 9.9253e-04, 2.4160e-04, 8.4127e-06,\n",
      "        8.5799e-06, 6.9217e-04, 1.1846e-05, 8.0664e-05, 1.2153e-06, 7.4214e-04,\n",
      "        5.7811e-02, 6.8821e-08, 7.4983e-03, 3.4364e-06, 3.4703e-03, 6.0628e-04,\n",
      "        7.9482e-04, 1.0012e-02, 2.6903e-04, 4.0934e-04, 9.4302e-04, 5.2416e-03,\n",
      "        1.6588e-03, 4.4418e-05, 1.3890e-02, 4.0506e-05, 4.2912e-06, 3.0249e-03,\n",
      "        3.2862e-05, 2.5536e-04, 4.2202e-01, 1.4591e-04, 3.0257e-05, 1.7259e-03,\n",
      "        3.8685e-03, 1.8231e-04, 2.6616e-03, 2.3185e-01, 9.0411e-06, 2.1436e-04,\n",
      "        1.3599e-02, 1.0332e-03, 1.3573e-03, 5.0115e-03, 4.5444e-02, 5.0386e-03,\n",
      "        7.7746e-03, 8.9174e-06, 2.5669e-04, 2.0399e-03, 1.1704e-05, 5.8286e-04,\n",
      "        2.6777e-03, 1.0001e-04, 4.0058e-03, 2.9402e-03, 1.9170e-06, 1.3352e-03,\n",
      "        2.4653e-05, 8.3622e-10, 1.5212e-04, 1.4343e-03, 1.0918e-03, 4.3211e-02,\n",
      "        1.7028e-04, 4.9991e-07, 2.4877e-05, 3.8723e-04, 5.3058e-05, 3.0931e-01,\n",
      "        1.4094e-04, 6.0285e-03, 1.4863e-07, 1.0563e-04, 1.2976e-02, 4.7258e-03,\n",
      "        3.4478e-03, 1.6645e-04, 2.3257e-03, 1.6965e-05, 1.6882e-02, 1.4395e-03,\n",
      "        1.4922e-05, 7.2140e-02, 9.7776e-03, 7.7025e-08, 2.2846e-05, 6.4127e-06,\n",
      "        1.3915e-06, 3.6668e-03, 8.6347e-05, 2.0621e-04, 1.1804e-04, 3.4945e-04,\n",
      "        4.2407e-04, 1.0729e-04, 1.5666e-02, 6.4160e-04, 1.0464e-04, 1.6383e-02,\n",
      "        1.2785e-03, 4.8018e-06, 2.4701e-01, 5.7489e-03, 1.2512e-04, 3.2802e-04,\n",
      "        1.2247e-06, 7.8833e-04, 6.2009e-05, 3.3378e-07, 1.6460e-04, 9.1802e-03,\n",
      "        9.1177e-07, 1.0688e-10, 2.5359e-04, 1.1950e-05, 9.5122e-09, 1.1320e-02,\n",
      "        1.4962e-04, 7.8819e-06, 4.2274e-07, 5.9348e-08, 2.7518e-08, 2.7283e-06,\n",
      "        2.5031e-03, 1.5395e-02, 4.2648e-03, 2.0997e-07, 5.7389e-05, 1.2274e-09,\n",
      "        5.4992e-06, 9.0035e-03, 1.2253e-07, 3.1016e-03, 1.8307e-10, 1.2759e-07,\n",
      "        8.1477e-11, 9.8034e-08, 1.3025e-05, 5.7671e-06, 3.2541e-06, 8.2438e-07,\n",
      "        3.3890e-02], grad_fn=<SigmoidBackward0>)\n"
     ]
    }
   ],
   "source": [
    "input_word = \"eight\"\n",
    "test_tensor = u.get_tensor_from_word(input_word, eng_tens, eng_vocab)\n",
    "res = loaded_model(test_tensor)\n",
    "print(res)"
   ]
  },
  {
   "cell_type": "code",
   "outputs": [
    {
     "name": "stdout",
     "output_type": "stream",
     "text": [
      "[('田', 0.42202067), ('ハ', 0.39345303), ('儿', 0.38947755), ('大', 0.35805595), ('艾', 0.3093144), ('隹', 0.24700668), ('口', 0.2413764), ('目', 0.23185304), ('土', 0.21999907), ('人', 0.20739807), ('日', 0.18727821), ('冖', 0.18691318), ('厶', 0.17530999), ('宀', 0.17191721), ('十', 0.17078212)]\n"
     ]
    }
   ],
   "source": [
    "output_probs = res.detach().numpy().squeeze()\n",
    "radical_probs = [(radical, prob) for radical, prob in zip(rad_vocab, output_probs)]\n",
    "sorted_radical_probs = sorted(radical_probs, key=lambda x: x[1], reverse=True)\n",
    "print(sorted_radical_probs[:15])"
   ],
   "metadata": {
    "collapsed": false,
    "ExecuteTime": {
     "end_time": "2024-04-11T15:10:54.858607Z",
     "start_time": "2024-04-11T15:10:54.854720Z"
    }
   },
   "id": "7faa307eef3b3fe7",
   "execution_count": 13
  },
  {
   "cell_type": "code",
   "execution_count": 14,
   "id": "24543e26",
   "metadata": {
    "ExecuteTime": {
     "end_time": "2024-04-11T15:10:57.277891Z",
     "start_time": "2024-04-11T15:10:57.132841Z"
    }
   },
   "outputs": [
    {
     "data": {
      "text/plain": "<Figure size 640x480 with 1 Axes>",
      "image/png": "[encoded data removed]"
     },
     "metadata": {},
     "output_type": "display_data"
    }
   ],
   "source": [
    "TOP_TAKE = 15\n",
    "fprop = fm.FontProperties(fname='NotoSansCJKtc-Regular.otf')\n",
    "\n",
    "radicals, probabilities = zip(*sorted_radical_probs)\n",
    "\n",
    "radicals_top = list(radicals[:TOP_TAKE])\n",
    "probabilities_top = list(probabilities[:TOP_TAKE])\n",
    "\n",
    "fig, axs = plt.subplots()\n",
    "axs.bar(range(TOP_TAKE), probabilities_top)\n",
    "axs.set_xticks(range(TOP_TAKE), radicals_top, fontproperties=fprop)\n",
    "axs.set_xlabel('Radicals')\n",
    "axs.set_ylabel('Probabilities')\n",
    "axs.set_title(f'Top {TOP_TAKE} Radicals Most Likely associated with \\\"{input_word}\\\"')\n",
    "\n",
    "plt.show()"
   ]
  },
  {
   "cell_type": "code",
   "outputs": [
    {
     "name": "stdout",
     "output_type": "stream",
     "text": [
      "Precision: 0.5816750911766587\n",
      "Recall: 0.10638596655471429\n",
      "F1 Score: 0.1798737658534655\n",
      "Accuracy: 0.04317293113079563\n"
     ]
    }
   ],
   "source": [
    "with torch.no_grad():\n",
    "    preds = loaded_model(eng_tens)\n",
    "    preds = (preds > 0.5)\n",
    "    print('Precision:', precision_score(rad_tens, preds, average='micro'))\n",
    "    print('Recall:', recall_score(rad_tens, preds, average='micro'))\n",
    "    print('F1 Score:', f1_score(rad_tens, preds, average='micro'))\n",
    "    print('Accuracy:', accuracy_score(rad_tens, preds))"
   ],
   "metadata": {
    "collapsed": false,
    "ExecuteTime": {
     "end_time": "2024-04-11T15:11:12.292874Z",
     "start_time": "2024-04-11T15:11:11.284317Z"
    }
   },
   "id": "42fb05c324dc21e9",
   "execution_count": 15
  }
 ],
 "metadata": {
  "kernelspec": {
   "display_name": "Python 3",
   "language": "python",
   "name": "python3"
  },
  "language_info": {
   "codemirror_mode": {
    "name": "ipython",
    "version": 3
   },
   "file_extension": ".py",
   "mimetype": "text/x-python",
   "name": "python",
   "nbconvert_exporter": "python",
   "pygments_lexer": "ipython3",
   "version": "3.10.11"
  }
 },
 "nbformat": 4,
 "nbformat_minor": 5
}
