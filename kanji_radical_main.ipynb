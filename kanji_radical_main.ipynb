{
 "cells": [
  {
   "cell_type": "markdown",
   "id": "9154d22582650ef5",
   "metadata": {
    "collapsed": false
   },
   "source": [
    "# Kanji Radical Match\n",
    "\n",
    "Loading data, training, and output."
   ]
  },
  {
   "cell_type": "code",
   "outputs": [],
   "source": [
    "import utils as u\n",
    "import torch.nn as nn\n",
    "import torch\n",
    "from utils import KanjiFFNN\n",
    "import torch.optim as optim\n",
    "import matplotlib.pyplot as plt\n",
    "import matplotlib.font_manager as fm"
   ],
   "metadata": {
    "collapsed": false,
    "ExecuteTime": {
     "end_time": "2024-04-09T23:27:30.638400Z",
     "start_time": "2024-04-09T23:27:29.863653Z"
    }
   },
   "id": "60c875da94788db9",
   "execution_count": 1
  },
  {
   "cell_type": "code",
   "outputs": [],
   "source": [
    "eng_to_rads = u.load_eng_to_rads()\n",
    "eng_tens, rad_tens, eng_vocab, rad_vocab = u.dict_to_tensors(eng_to_rads)"
   ],
   "metadata": {
    "ExecuteTime": {
     "end_time": "2024-04-09T23:27:31.321758Z",
     "start_time": "2024-04-09T23:27:31.158379Z"
    }
   },
   "id": "693acae6",
   "execution_count": 2
  },
  {
   "cell_type": "code",
   "outputs": [],
   "source": [
    "eng_to_rads"
   ],
   "metadata": {
    "collapsed": false
   },
   "id": "4a85459c3b129c5f",
   "execution_count": null
  },
  {
   "cell_type": "code",
   "outputs": [
    {
     "name": "stdout",
     "output_type": "stream",
     "text": [
      "Vocabulary size: 5191\n",
      "Radical vocabulary size: 793\n"
     ]
    }
   ],
   "source": [
    "print(\"Vocabulary size:\", len(eng_vocab))\n",
    "print(\"Radical vocabulary size:\", len(rad_vocab))"
   ],
   "metadata": {
    "collapsed": false,
    "ExecuteTime": {
     "end_time": "2024-04-09T22:58:09.647298Z",
     "start_time": "2024-04-09T22:58:09.645125Z"
    }
   },
   "id": "8ecdac8fcb157f0a",
   "execution_count": 3
  },
  {
   "cell_type": "code",
   "outputs": [
    {
     "name": "stdout",
     "output_type": "stream",
     "text": [
      "tensor([[0., 0., 0.,  ..., 0., 0., 0.],\n",
      "        [0., 0., 0.,  ..., 0., 0., 0.],\n",
      "        [0., 0., 0.,  ..., 0., 0., 0.],\n",
      "        [0., 0., 0.,  ..., 0., 0., 0.],\n",
      "        [0., 0., 0.,  ..., 0., 0., 0.]])\n",
      "['%' '(kokuji)' '(north) korea' '(parallels of) latitude' '-']\n",
      "tensor([[0., 1., 0.,  ..., 0., 0., 0.],\n",
      "        [0., 0., 0.,  ..., 0., 0., 0.],\n",
      "        [0., 0., 0.,  ..., 0., 0., 0.],\n",
      "        [0., 0., 0.,  ..., 0., 0., 0.],\n",
      "        [0., 0., 0.,  ..., 0., 0., 0.]])\n",
      "['⺌' '⺍' '⺕' '⺗' '⺤']\n"
     ]
    }
   ],
   "source": [
    "# Print a small sample of our data\n",
    "print(eng_tens[:5])\n",
    "print(eng_vocab[:5])\n",
    "print(rad_tens[:5])\n",
    "print(rad_vocab[:5])"
   ],
   "metadata": {
    "collapsed": false,
    "ExecuteTime": {
     "end_time": "2024-04-09T22:58:09.652356Z",
     "start_time": "2024-04-09T22:58:09.647988Z"
    }
   },
   "id": "a8a47ed0e3b244f9",
   "execution_count": 4
  },
  {
   "cell_type": "code",
   "execution_count": 5,
   "id": "b7800814",
   "metadata": {
    "ExecuteTime": {
     "end_time": "2024-04-09T22:58:09.661493Z",
     "start_time": "2024-04-09T22:58:09.654215Z"
    }
   },
   "outputs": [
    {
     "name": "stdout",
     "output_type": "stream",
     "text": [
      "tensor([0., 0., 0.,  ..., 0., 0., 0.])\n"
     ]
    }
   ],
   "source": [
    "# Example\n",
    "print(u.get_tensor_from_word(\"eight\", eng_tens, eng_vocab))"
   ]
  },
  {
   "cell_type": "code",
   "execution_count": 9,
   "id": "b71fbff98f348da7",
   "metadata": {
    "collapsed": false,
    "ExecuteTime": {
     "end_time": "2024-04-09T22:59:54.954368Z",
     "start_time": "2024-04-09T22:59:54.948766Z"
    }
   },
   "outputs": [],
   "source": [
    "e2r_model = KanjiFFNN(eng_tens.size(1), rad_tens.size(1), 20)\n",
    "criterion = nn.BCELoss()\n",
    "optimizer = optim.Adam(e2r_model.parameters(), lr=1e-3)\n",
    "lr_scheduler = optim.lr_scheduler.ExponentialLR(optimizer, gamma=0.9)"
   ]
  },
  {
   "cell_type": "code",
   "execution_count": 10,
   "id": "f34b62a4",
   "metadata": {
    "ExecuteTime": {
     "end_time": "2024-04-09T23:00:40.403597Z",
     "start_time": "2024-04-09T22:59:55.058556Z"
    }
   },
   "outputs": [
    {
     "name": "stdout",
     "output_type": "stream",
     "text": [
      "Epoch        1 Loss: 0.01779271475970745\n",
      "Epoch        2 Loss: 0.018035070970654488\n",
      "Epoch        3 Loss: 0.01809585653245449\n",
      "Epoch        4 Loss: 0.018127745017409325\n",
      "Epoch        5 Loss: 0.018097497522830963\n",
      "Epoch        6 Loss: 0.018011782318353653\n",
      "Epoch        7 Loss: 0.017864001914858818\n",
      "Epoch        8 Loss: 0.017667029052972794\n",
      "Epoch        9 Loss: 0.01743856817483902\n",
      "Epoch       10 Loss: 0.017196353524923325\n",
      "Epoch       11 Loss: 0.016912061721086502\n",
      "Epoch       12 Loss: 0.01660681702196598\n",
      "Epoch       13 Loss: 0.01628638617694378\n",
      "Epoch       14 Loss: 0.01598465070128441\n",
      "Epoch       15 Loss: 0.01571967639029026\n",
      "Epoch       16 Loss: 0.015464523807168007\n",
      "Epoch       17 Loss: 0.015219416469335556\n",
      "Epoch       18 Loss: 0.01499356422573328\n",
      "Epoch       19 Loss: 0.014801363460719585\n",
      "Epoch       20 Loss: 0.014638739638030529\n"
     ]
    }
   ],
   "source": [
    "epochs = 20\n",
    "\n",
    "e2r_model.train_fit(eng_tens, rad_tens, optimizer, criterion, epochs=epochs, scheduler=lr_scheduler, verbose=True)"
   ]
  },
  {
   "cell_type": "code",
   "outputs": [],
   "source": [
    "torch.save(e2r_model, \"./models/model.pt\")"
   ],
   "metadata": {
    "ExecuteTime": {
     "end_time": "2024-04-09T23:00:49.892225Z",
     "start_time": "2024-04-09T23:00:49.884891Z"
    }
   },
   "id": "e5662789",
   "execution_count": 12
  },
  {
   "cell_type": "code",
   "execution_count": 13,
   "id": "d1df00c3",
   "metadata": {
    "ExecuteTime": {
     "end_time": "2024-04-09T23:00:51.985484Z",
     "start_time": "2024-04-09T23:00:51.979462Z"
    }
   },
   "outputs": [],
   "source": [
    "torch.save(e2r_model.state_dict(), \"./models/model_state_dict.pt\")"
   ]
  },
  {
   "cell_type": "code",
   "execution_count": 6,
   "id": "9952bac3",
   "metadata": {},
   "outputs": [
    {
     "data": {
      "text/plain": [
       "KanjiFFNN(\n",
       "  (hid1): Linear(in_features=10, out_features=20, bias=True)\n",
       "  (hid2): Linear(in_features=20, out_features=19, bias=True)\n",
       ")"
      ]
     },
     "execution_count": 6,
     "metadata": {},
     "output_type": "execute_result"
    }
   ],
   "source": [
    "loaded_model = KanjiFFNN(eng_tens.size(1), rad_tens.size(1), 20)\n",
    "loaded_model.load_state_dict(torch.load(\"./models/model_state_dict.pt\"))\n",
    "loaded_model.eval()"
   ]
  },
  {
   "cell_type": "code",
   "execution_count": 14,
   "id": "423571b9",
   "metadata": {
    "ExecuteTime": {
     "end_time": "2024-04-09T23:00:59.483106Z",
     "start_time": "2024-04-09T23:00:59.465774Z"
    }
   },
   "outputs": [
    {
     "name": "stdout",
     "output_type": "stream",
     "text": [
      "tensor([3.3006e-06, 2.9419e-05, 8.0585e-05, 1.4043e-07, 2.4051e-05, 1.1260e-05,\n",
      "        3.1942e-05, 8.2321e-05, 2.1655e-05, 1.2333e-04, 1.7412e-06, 2.7313e-06,\n",
      "        1.2714e-10, 6.1793e-07, 1.1664e-06, 3.3734e-04, 4.3744e-05, 1.4098e-06,\n",
      "        5.4120e-07, 1.1365e-07, 7.4708e-10, 3.8422e-05, 1.3607e-06, 1.9735e-07,\n",
      "        6.1500e-07, 1.2360e-07, 9.4969e-10, 4.5623e-05, 1.3106e-07, 1.4099e-08,\n",
      "        1.0739e-06, 2.2381e-06, 2.2593e-08, 1.6030e-04, 9.8060e-07, 2.5382e-05,\n",
      "        9.3901e-07, 2.2115e-09, 1.3374e-04, 2.7385e-07, 1.8617e-05, 1.7481e-04,\n",
      "        4.4677e-05, 1.6085e-07, 1.7124e-08, 2.0308e-06, 1.7465e-07, 3.4764e-06,\n",
      "        1.0072e-07, 1.2314e-09, 4.9292e-08, 1.2826e-05, 1.7973e-05, 2.1894e-08,\n",
      "        4.9283e-06, 1.1912e-05, 7.1895e-07, 5.8640e-06, 2.1686e-07, 7.1101e-05,\n",
      "        3.6380e-07, 1.4035e-05, 2.3529e-06, 1.1152e-06, 3.1096e-07, 1.0855e-06,\n",
      "        1.7435e-04, 5.0872e-06, 1.1979e-06, 7.6232e-06, 8.2398e-06, 3.9470e-06,\n",
      "        2.2316e-09, 1.5657e-06, 4.4006e-08, 2.0566e-08, 1.1407e-04, 2.2310e-04,\n",
      "        1.8321e-05, 6.4647e-08, 1.8011e-07, 2.8620e-06, 1.8514e-07, 2.6952e-06,\n",
      "        1.0093e-07, 2.2044e-07, 2.6996e-07, 1.7999e-07, 1.3584e-07, 7.8111e-06,\n",
      "        3.8439e-07, 1.9347e-06, 3.9945e-08, 1.0851e-08, 1.4107e-07, 7.9768e-06,\n",
      "        4.7740e-05, 4.2476e-08, 1.4295e-09, 5.3928e-06, 5.4425e-06, 7.0256e-07,\n",
      "        9.3424e-06, 4.4882e-08, 4.9310e-08, 1.0325e-05, 4.9790e-06, 2.9264e-08,\n",
      "        1.7649e-07, 5.9525e-06, 1.2184e-04, 2.6707e-07, 6.6040e-09, 2.4390e-05,\n",
      "        4.8280e-07, 4.8663e-08, 9.9103e-06, 7.9816e-07, 6.4692e-07, 8.0219e-06,\n",
      "        6.3175e-05, 1.4506e-06, 9.9346e-08, 3.5196e-08, 5.6164e-08, 5.4182e-10,\n",
      "        4.1124e-06, 8.4198e-05, 1.2447e-08, 2.2994e-08, 3.6186e-05, 2.2382e-08,\n",
      "        1.5114e-05, 4.3058e-07, 5.6007e-08, 9.2691e-06, 3.1387e-07, 7.9920e-07,\n",
      "        2.7180e-05, 1.0083e-04, 3.0345e-07, 1.2635e-05, 9.8676e-08, 9.6737e-08,\n",
      "        3.0614e-06, 1.2174e-08, 3.4387e-07, 3.6853e-09, 9.3039e-07, 1.5355e-07,\n",
      "        1.6095e-04, 1.3983e-06, 1.5840e-07, 2.9646e-08, 7.4241e-08, 6.1504e-09,\n",
      "        4.8849e-05, 4.9879e-06, 7.8508e-07, 2.7191e-08, 6.2823e-10, 1.6288e-06,\n",
      "        9.8876e-08, 3.2544e-05, 4.5777e-07, 7.3507e-07, 9.5315e-06, 7.9630e-08,\n",
      "        3.8294e-07, 4.4857e-06, 2.5677e-04, 2.0420e-08, 9.2378e-06, 6.2373e-06,\n",
      "        3.2753e-07, 5.5162e-08, 1.8438e-08, 1.2155e-06, 1.9729e-09, 2.6791e-09,\n",
      "        1.6747e-07, 8.8056e-07, 2.1688e-05, 2.7879e-06, 3.5166e-07, 7.9424e-05,\n",
      "        2.3744e-06, 4.2913e-06, 1.5685e-06, 1.8652e-07, 5.8071e-08, 6.3628e-05,\n",
      "        1.2349e-08, 1.0628e-08, 8.6163e-07, 5.5314e-05, 3.5650e-07, 1.4518e-06,\n",
      "        1.5110e-07, 1.3400e-04, 3.0468e-06, 1.0980e-06, 2.4009e-05, 1.7671e-06,\n",
      "        1.1561e-06, 4.5587e-08, 2.1189e-07, 8.5017e-04, 4.9734e-05, 5.5544e-06,\n",
      "        7.5843e-06, 2.5925e-06, 5.9038e-06, 3.2678e-08, 8.3390e-06, 1.8488e-05,\n",
      "        5.3508e-06, 1.7386e-05, 2.5322e-07, 9.4729e-06, 2.5723e-10, 8.2810e-07,\n",
      "        9.8645e-07, 4.7358e-07, 1.9797e-06, 3.0921e-07, 4.3776e-07, 5.0661e-06,\n",
      "        1.1865e-06, 2.3565e-06, 7.8727e-09, 1.0841e-09, 7.4691e-07, 4.4746e-06,\n",
      "        9.2365e-06, 1.7439e-06, 2.0330e-09, 2.5513e-10, 6.2474e-07, 1.8309e-06,\n",
      "        3.7521e-05, 2.5417e-06, 2.2202e-07, 2.3858e-04, 6.1754e-06, 2.7889e-06,\n",
      "        1.4778e-06, 2.7296e-07, 8.8345e-07, 1.4243e-07, 7.1233e-08, 2.5891e-05,\n",
      "        3.9803e-06, 8.1661e-07, 2.7415e-07, 2.4328e-09, 5.0063e-05, 7.5803e-08,\n",
      "        4.2159e-06, 4.3849e-07, 8.7246e-06, 1.6511e-07, 1.4084e-08, 1.3110e-04,\n",
      "        2.5460e-06, 2.8738e-08, 1.4992e-05, 1.3082e-06, 1.7762e-07, 3.4437e-07,\n",
      "        1.7922e-06, 1.8123e-09, 2.1318e-06, 1.1939e-08, 2.9658e-09, 4.6633e-06,\n",
      "        9.4914e-07, 2.9593e-06, 1.0396e-07, 2.5765e-07, 1.7448e-04, 3.8230e-07,\n",
      "        2.3642e-08, 8.3156e-08, 2.0759e-08, 3.9253e-10, 2.5052e-05, 7.8349e-08,\n",
      "        3.7540e-08, 2.2494e-07, 2.4395e-07, 1.4652e-07, 1.6924e-07, 2.4640e-04,\n",
      "        1.0196e-09, 7.1908e-08, 1.0032e-06, 1.5249e-07, 6.0467e-07, 1.3894e-06,\n",
      "        9.0657e-07, 2.9618e-08, 1.7613e-07, 8.9745e-07, 8.9502e-08, 3.0329e-08,\n",
      "        3.1639e-08, 4.4473e-07, 1.4405e-06, 2.6625e-07, 6.0777e-08, 1.4386e-04,\n",
      "        9.3829e-06, 9.4464e-11, 2.0760e-06, 5.7910e-08, 1.0537e-07, 1.6415e-07,\n",
      "        5.2079e-08, 1.5889e-05, 2.4735e-05, 4.3440e-07, 4.5084e-06, 6.0389e-08,\n",
      "        8.1725e-07, 1.0669e-07, 3.2682e-10, 8.3416e-05, 1.8547e-07, 9.5864e-06,\n",
      "        2.5629e-08, 5.7304e-07, 3.6241e-07, 6.2424e-08, 1.2704e-08, 9.8357e-09,\n",
      "        9.0972e-07, 3.1072e-06, 8.9200e-05, 1.0190e-06, 6.6400e-09, 2.1101e-06,\n",
      "        6.7775e-06, 6.7937e-08, 4.1235e-05, 3.3024e-07, 2.5315e-07, 4.5745e-05,\n",
      "        1.6829e-06, 6.1192e-10, 3.1517e-07, 8.9806e-10, 3.6410e-05, 4.1431e-07,\n",
      "        2.5219e-06, 1.5172e-06, 3.6412e-08, 9.7070e-07, 7.0861e-09, 1.9886e-05,\n",
      "        5.5434e-07, 2.6696e-06, 1.6995e-06, 1.2330e-06, 2.3200e-05, 3.1214e-07,\n",
      "        9.3055e-05, 1.5698e-07, 2.8464e-10, 8.4606e-08, 2.3157e-07, 3.9396e-08,\n",
      "        1.6185e-07, 1.5280e-07, 2.3292e-07, 1.8066e-07, 4.5701e-05, 2.4256e-05,\n",
      "        6.5575e-06, 1.9250e-07, 1.2242e-05, 2.4862e-07, 1.2395e-06, 3.1716e-08,\n",
      "        6.6136e-09, 1.1801e-06, 3.8227e-08, 2.1290e-07, 2.6553e-05, 1.1962e-08,\n",
      "        7.7413e-08, 1.2113e-04, 1.2177e-08, 2.5148e-06, 2.7101e-07, 1.3179e-04,\n",
      "        2.8218e-05, 2.5820e-06, 1.8582e-07, 9.0885e-09, 2.6576e-07, 9.0589e-09,\n",
      "        3.9361e-07, 2.5704e-07, 1.4686e-07, 9.4015e-09, 2.2028e-06, 3.6447e-08,\n",
      "        2.2871e-09, 9.7838e-08, 3.5867e-05, 1.6335e-07, 9.0840e-08, 1.3405e-05,\n",
      "        1.0854e-06, 3.3860e-06, 1.9407e-08, 1.6740e-06, 1.2673e-06, 8.2369e-08,\n",
      "        2.6809e-07, 5.5858e-07, 1.7035e-06, 2.2518e-05, 1.1940e-08, 4.0620e-06,\n",
      "        1.2872e-05, 1.8249e-04, 3.9841e-06, 6.4734e-07, 8.3551e-06, 1.1747e-04,\n",
      "        4.5890e-07, 1.2460e-06, 2.3656e-08, 1.1780e-07, 1.5230e-07, 4.8477e-10,\n",
      "        6.2307e-06, 8.0977e-10, 1.3554e-07, 3.4850e-08, 4.7165e-06, 9.2715e-06,\n",
      "        7.5685e-07, 3.1587e-05, 1.6451e-08, 4.8284e-07, 4.3320e-10, 8.6046e-05,\n",
      "        1.0485e-09, 3.9982e-07, 1.4756e-07, 1.0985e-09, 7.4995e-07, 3.4580e-04,\n",
      "        1.4564e-05, 6.8795e-07, 6.3878e-06, 1.0384e-05, 3.0628e-09, 9.2279e-09,\n",
      "        1.1990e-08, 2.1485e-09, 5.0714e-10, 1.8872e-07, 1.6235e-05, 3.0139e-05,\n",
      "        7.1338e-09, 1.6353e-07, 1.0570e-06, 1.5710e-07, 3.5051e-07, 1.0302e-08,\n",
      "        3.0981e-06, 2.7254e-06, 7.2357e-06, 1.2295e-06, 1.6672e-07, 5.2240e-06,\n",
      "        1.4901e-07, 5.3251e-09, 5.9955e-04, 3.4974e-07, 8.2842e-07, 2.9989e-07,\n",
      "        1.6438e-07, 2.6752e-07, 9.2822e-04, 5.2591e-06, 1.7007e-08, 6.8369e-07,\n",
      "        1.9003e-06, 2.5762e-06, 1.3524e-06, 8.8087e-06, 6.9812e-06, 5.1614e-06,\n",
      "        1.9430e-05, 7.4971e-07, 4.6208e-10, 2.7801e-08, 5.1421e-09, 5.2381e-09,\n",
      "        1.3790e-07, 2.3682e-05, 9.1636e-06, 3.8367e-05, 6.4512e-06, 7.0832e-08,\n",
      "        7.2639e-08, 8.2340e-07, 9.0451e-09, 8.2603e-06, 7.9145e-09, 1.0689e-04,\n",
      "        1.1200e-08, 3.5808e-06, 3.6721e-06, 2.9823e-06, 3.1798e-07, 5.0175e-07,\n",
      "        1.2127e-06, 1.5952e-07, 9.6594e-07, 3.4898e-06, 7.2455e-04, 3.3094e-07,\n",
      "        2.0279e-05, 8.2220e-07, 3.1414e-09, 2.5575e-07, 3.8155e-09, 2.3748e-07,\n",
      "        2.3835e-07, 1.2025e-09, 6.6061e-09, 3.2971e-10, 3.5080e-05, 1.1836e-04,\n",
      "        1.1216e-10, 8.8397e-07, 2.0347e-07, 5.2599e-08, 2.8955e-09, 7.0822e-09,\n",
      "        3.6879e-06, 8.4587e-07, 4.0826e-08, 1.9044e-08, 2.2745e-07, 1.1017e-06,\n",
      "        1.2432e-05, 2.0919e-05, 1.7914e-06, 2.5084e-06, 1.0710e-04, 1.0072e-07,\n",
      "        2.2254e-07, 1.1211e-06, 1.9924e-06, 1.3038e-05, 5.1013e-07, 7.2595e-06,\n",
      "        3.9506e-06, 3.9542e-04, 3.6173e-05, 6.8765e-06, 2.0906e-06, 1.1768e-06,\n",
      "        2.1098e-09, 3.6464e-06, 8.7025e-09, 1.0884e-07, 9.5617e-07, 3.6234e-09,\n",
      "        2.1100e-05, 3.8285e-07, 1.9862e-05, 8.6585e-10, 5.2512e-07, 9.5596e-08,\n",
      "        2.2110e-07, 2.8754e-05, 2.8183e-07, 5.2375e-08, 1.8657e-07, 1.1903e-05,\n",
      "        1.7220e-05, 1.9638e-08, 5.3181e-07, 1.1913e-04, 5.5267e-06, 1.2404e-06,\n",
      "        4.3884e-08, 1.9710e-09, 3.0723e-07, 5.5471e-07, 4.8048e-07, 8.8551e-06,\n",
      "        1.5061e-08, 3.0216e-09, 5.6041e-05, 2.3065e-05, 3.5031e-05, 1.6131e-06,\n",
      "        2.4004e-06, 6.5419e-08, 2.2860e-08, 5.9592e-08, 6.0576e-06, 2.0507e-09,\n",
      "        5.9651e-05, 2.4173e-06, 3.7992e-08, 1.7618e-05, 7.3355e-08, 8.0939e-09,\n",
      "        9.3844e-05, 5.9814e-09, 5.6760e-07, 4.1748e-07, 1.4023e-06, 5.6670e-05,\n",
      "        1.1409e-07, 8.6366e-05, 2.0647e-04, 6.2759e-07, 2.8064e-07, 1.2649e-07,\n",
      "        1.3581e-07, 5.5529e-07, 3.8346e-05, 8.1535e-10, 8.1909e-05, 2.7504e-08,\n",
      "        2.0585e-06, 6.2953e-06, 1.2061e-06, 2.1724e-08, 4.7529e-05, 2.4497e-07,\n",
      "        5.9931e-07, 1.2881e-07, 1.9530e-05, 2.9846e-09, 9.0046e-06, 7.4923e-08,\n",
      "        1.7451e-07, 6.2827e-06, 1.2377e-10, 3.3464e-07, 1.5531e-07, 8.5629e-10,\n",
      "        2.4065e-09, 2.1447e-06, 1.5256e-05, 8.2852e-06, 2.1502e-08, 1.1565e-05,\n",
      "        2.5183e-09, 4.9726e-07, 2.2821e-10, 1.1710e-05, 3.1803e-07, 3.0177e-07,\n",
      "        2.5267e-08, 4.8726e-06, 1.0810e-06, 5.5925e-05, 3.7218e-06, 2.5049e-06,\n",
      "        2.0759e-04, 7.6258e-07, 2.1676e-07, 4.9869e-07, 3.2934e-07, 2.7387e-10,\n",
      "        1.0893e-07, 1.6388e-05, 3.0020e-06, 4.8905e-08, 4.2535e-09, 1.8840e-05,\n",
      "        4.2331e-08, 1.9793e-05, 3.7598e-09, 2.0133e-08, 1.4754e-05, 1.0490e-04,\n",
      "        1.9820e-05, 2.4144e-08, 3.7724e-07, 2.1009e-07, 3.9003e-06, 2.5969e-07,\n",
      "        5.9361e-06, 8.4117e-08, 1.1862e-05, 1.4450e-06, 3.2905e-04, 1.1758e-05,\n",
      "        4.9361e-06, 2.9045e-07, 1.7761e-05, 2.4802e-07, 1.4264e-06, 1.1565e-04,\n",
      "        1.1807e-09, 1.1157e-08, 1.1086e-05, 3.0760e-07, 1.8754e-06, 5.0900e-09,\n",
      "        6.3443e-10, 1.9138e-08, 1.1069e-05, 2.1469e-05, 9.2449e-08, 4.8740e-08,\n",
      "        1.9823e-08, 8.8948e-05, 1.2363e-06, 3.3239e-06, 4.4107e-06, 3.7457e-06,\n",
      "        1.3344e-07, 5.4781e-07, 9.0550e-08, 9.8792e-10, 3.2763e-07, 5.0443e-08,\n",
      "        5.8738e-08, 2.3524e-05, 2.7881e-07, 1.0252e-07, 1.6927e-06, 3.7135e-05,\n",
      "        1.3519e-05, 6.5642e-09, 1.6983e-05, 1.2108e-06, 1.9388e-05, 4.0440e-07,\n",
      "        4.2870e-09, 1.9213e-07, 9.4279e-07, 5.1552e-10, 2.1621e-06, 1.6123e-04,\n",
      "        6.6304e-07, 2.0825e-07, 4.7406e-09, 4.1861e-08, 1.2020e-07, 1.3000e-05,\n",
      "        3.6658e-10, 2.2159e-10, 9.9683e-06, 1.2631e-05, 3.1802e-09, 1.3505e-07,\n",
      "        4.9797e-06, 1.1773e-05, 1.9118e-04, 1.0801e-07, 3.1838e-08, 1.9996e-10,\n",
      "        8.0398e-08, 1.2184e-05, 6.6089e-07, 1.3531e-05, 1.5961e-06, 3.4441e-07,\n",
      "        5.0026e-10, 2.9114e-08, 1.6502e-07, 1.6918e-06, 2.1766e-06, 2.4119e-06,\n",
      "        7.6341e-07, 3.2486e-09, 4.9570e-07, 3.8720e-07, 5.6521e-08, 1.0224e-07,\n",
      "        8.7032e-07, 3.6900e-05, 9.8728e-07, 5.1151e-07, 1.5710e-06, 3.1047e-07,\n",
      "        1.6236e-08], grad_fn=<SigmoidBackward0>)\n"
     ]
    }
   ],
   "source": [
    "tensor = u.get_tensor_from_word(\"eight\", eng_tens, eng_vocab)\n",
    "res = e2r_model(tensor)\n",
    "print(res)"
   ]
  },
  {
   "cell_type": "code",
   "execution_count": 19,
   "id": "24543e26",
   "metadata": {
    "ExecuteTime": {
     "end_time": "2024-04-09T23:03:34.075680Z",
     "start_time": "2024-04-09T23:03:33.944668Z"
    }
   },
   "outputs": [
    {
     "data": {
      "text/plain": "<Figure size 640x480 with 1 Axes>",
      "image/png": "[encoded data removed]"
     },
     "metadata": {},
     "output_type": "display_data"
    }
   ],
   "source": [
    "fprop = fm.FontProperties(fname='NotoSansCJKtc-Regular.otf')\n",
    "radicals = rad_vocab[:20]\n",
    "probabilities = res.tolist()[:20]\n",
    "\n",
    "fig, axs = plt.subplots()\n",
    "axs.bar(radicals, probabilities)\n",
    "axs.set_xticks(range(len(radicals)), radicals, fontproperties=fprop)\n",
    "plt.show()"
   ]
  }
 ],
 "metadata": {
  "kernelspec": {
   "display_name": "Python 3",
   "language": "python",
   "name": "python3"
  },
  "language_info": {
   "codemirror_mode": {
    "name": "ipython",
    "version": 3
   },
   "file_extension": ".py",
   "mimetype": "text/x-python",
   "name": "python",
   "nbconvert_exporter": "python",
   "pygments_lexer": "ipython3",
   "version": "3.10.11"
  }
 },
 "nbformat": 4,
 "nbformat_minor": 5
}
