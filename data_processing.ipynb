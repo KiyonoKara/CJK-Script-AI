{
 "cells": [
  {
   "cell_type": "markdown",
   "source": [
    "# Map English vocabulary to Kanji"
   ],
   "metadata": {
    "collapsed": false
   },
   "id": "4be90affb7754ab"
  },
  {
   "cell_type": "code",
   "outputs": [],
   "source": [
    "import utils as u\n",
    "import json\n",
    "import nltk\n",
    "from nltk.corpus import words\n",
    "\n",
    "# Append this path locally\n",
    "nltk.data.path.append('./nltk_data/')\n",
    "\n",
    "kanji_to_english = u.json_to_dict(\"./data/kanji-jouyou.json\")"
   ],
   "metadata": {
    "collapsed": true,
    "ExecuteTime": {
     "end_time": "2024-04-08T20:18:15.550180Z",
     "start_time": "2024-04-08T20:18:14.423066Z"
    }
   },
   "id": "initial_id",
   "execution_count": 1
  },
  {
   "cell_type": "code",
   "outputs": [],
   "source": [
    "# Lowercase NLTK words\n",
    "lowercase_words = [w.lower() for w in words.words()]"
   ],
   "metadata": {
    "collapsed": false,
    "ExecuteTime": {
     "end_time": "2024-04-03T21:57:25.074094Z",
     "start_time": "2024-04-03T21:57:25.012244Z"
    }
   },
   "id": "8c27c02f00b7fb30",
   "execution_count": 9
  },
  {
   "cell_type": "code",
   "outputs": [],
   "source": [
    "# For words in the NLTK corpus\n",
    "english_to_kanji_limited = {}\n",
    "\n",
    "# Reverse mapping for English to Kanji\n",
    "for kanji, data in kanji_to_english.items():\n",
    "    meanings = data['meanings']\n",
    "    for meaning in meanings:\n",
    "        l_meaning = meaning.lower()\n",
    "        if l_meaning in lowercase_words:\n",
    "            if l_meaning in english_to_kanji_limited:\n",
    "                english_to_kanji_limited[l_meaning].add(kanji)\n",
    "            else:\n",
    "                english_to_kanji_limited[l_meaning] = {kanji}\n",
    "\n",
    "# Set English meanings to list of Kanji\n",
    "for meaning, kanji_set in english_to_kanji_limited.items():\n",
    "    english_to_kanji_limited[meaning] = list(kanji_set)"
   ],
   "metadata": {
    "collapsed": false,
    "ExecuteTime": {
     "end_time": "2024-04-03T21:57:38.043796Z",
     "start_time": "2024-04-03T21:57:29.435376Z"
    }
   },
   "id": "74f96068d9e5d194",
   "execution_count": 10
  },
  {
   "cell_type": "code",
   "outputs": [],
   "source": [
    "with open('./data/english_to_kanji_limited.json', 'w') as f:\n",
    "    json.dump(english_to_kanji_limited, f, ensure_ascii=False, indent=2)"
   ],
   "metadata": {
    "collapsed": false,
    "ExecuteTime": {
     "end_time": "2024-04-03T21:58:24.649114Z",
     "start_time": "2024-04-03T21:58:24.636870Z"
    }
   },
   "id": "b755c40a44801149",
   "execution_count": 11
  },
  {
   "cell_type": "code",
   "outputs": [],
   "source": [
    "# For all meanings, not limited to words\n",
    "english_to_kanji= {}\n",
    "\n",
    "# Reverse mapping for English to Kanji\n",
    "for kanji, data in kanji_to_english.items():\n",
    "    meanings = data['meanings']\n",
    "    for meaning in meanings:\n",
    "        meaning = meaning.lower()\n",
    "        if meaning in english_to_kanji:\n",
    "            english_to_kanji[meaning].add(kanji)\n",
    "        else:\n",
    "            english_to_kanji[meaning] = {kanji}\n",
    "\n",
    "# Set English meanings to list of Kanji\n",
    "for meaning, kanji_set in english_to_kanji.items():\n",
    "    english_to_kanji[meaning] = list(kanji_set)"
   ],
   "metadata": {
    "collapsed": false,
    "ExecuteTime": {
     "end_time": "2024-04-08T20:18:35.794625Z",
     "start_time": "2024-04-08T20:18:35.785703Z"
    }
   },
   "id": "9339bb019bdf7b75",
   "execution_count": 2
  },
  {
   "cell_type": "code",
   "outputs": [],
   "source": [
    "with open('./data/english_to_kanji.json', 'w') as f:\n",
    "    json.dump(english_to_kanji, f, ensure_ascii=False, indent=2)"
   ],
   "metadata": {
    "collapsed": false,
    "ExecuteTime": {
     "end_time": "2024-04-08T20:18:35.931205Z",
     "start_time": "2024-04-08T20:18:35.918819Z"
    }
   },
   "id": "84f8b3900aab314a",
   "execution_count": 3
  },
  {
   "cell_type": "code",
   "outputs": [],
   "source": [],
   "metadata": {
    "collapsed": false
   },
   "id": "a60a9f86b81fe81c"
  }
 ],
 "metadata": {
  "kernelspec": {
   "display_name": "Python 3",
   "language": "python",
   "name": "python3"
  },
  "language_info": {
   "codemirror_mode": {
    "name": "ipython",
    "version": 2
   },
   "file_extension": ".py",
   "mimetype": "text/x-python",
   "name": "python",
   "nbconvert_exporter": "python",
   "pygments_lexer": "ipython2",
   "version": "2.7.6"
  }
 },
 "nbformat": 4,
 "nbformat_minor": 5
}
